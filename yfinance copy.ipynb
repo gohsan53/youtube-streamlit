{
 "metadata": {
  "language_info": {
   "codemirror_mode": {
    "name": "ipython",
    "version": 3
   },
   "file_extension": ".py",
   "mimetype": "text/x-python",
   "name": "python",
   "nbconvert_exporter": "python",
   "pygments_lexer": "ipython3",
   "version": "3.8.3"
  },
  "orig_nbformat": 2,
  "kernelspec": {
   "name": "pythonjvsc74a57bd07662613e74e7023491b08a703faf2cb007555fa6c1ce0339d292c691308ce9d1",
   "display_name": "Python 3.8.3 64-bit ('.venv': pipenv)"
  },
  "metadata": {
   "interpreter": {
    "hash": "7662613e74e7023491b08a703faf2cb007555fa6c1ce0339d292c691308ce9d1"
   }
  }
 },
 "nbformat": 4,
 "nbformat_minor": 2,
 "cells": [
  {
   "cell_type": "code",
   "execution_count": 3,
   "metadata": {},
   "outputs": [
    {
     "output_type": "stream",
     "name": "stdout",
     "text": [
      "Requirement already satisfied: yfinance in ./.venv/lib/python3.8/site-packages (0.1.59)\n",
      "Requirement already satisfied: lxml>=4.5.1 in ./.venv/lib/python3.8/site-packages (from yfinance) (4.6.3)\n",
      "Requirement already satisfied: numpy>=1.15 in ./.venv/lib/python3.8/site-packages (from yfinance) (1.20.2)\n",
      "Requirement already satisfied: multitasking>=0.0.7 in ./.venv/lib/python3.8/site-packages (from yfinance) (0.0.9)\n",
      "Requirement already satisfied: requests>=2.20 in ./.venv/lib/python3.8/site-packages (from yfinance) (2.25.1)\n",
      "Requirement already satisfied: pandas>=0.24 in ./.venv/lib/python3.8/site-packages (from yfinance) (1.2.4)\n",
      "Requirement already satisfied: urllib3<1.27,>=1.21.1 in ./.venv/lib/python3.8/site-packages (from requests>=2.20->yfinance) (1.26.4)\n",
      "Requirement already satisfied: chardet<5,>=3.0.2 in ./.venv/lib/python3.8/site-packages (from requests>=2.20->yfinance) (4.0.0)\n",
      "Requirement already satisfied: idna<3,>=2.5 in ./.venv/lib/python3.8/site-packages (from requests>=2.20->yfinance) (2.10)\n",
      "Requirement already satisfied: certifi>=2017.4.17 in ./.venv/lib/python3.8/site-packages (from requests>=2.20->yfinance) (2020.12.5)\n",
      "Requirement already satisfied: pytz>=2017.3 in ./.venv/lib/python3.8/site-packages (from pandas>=0.24->yfinance) (2021.1)\n",
      "Requirement already satisfied: python-dateutil>=2.7.3 in ./.venv/lib/python3.8/site-packages (from pandas>=0.24->yfinance) (2.8.1)\n",
      "Requirement already satisfied: six>=1.5 in ./.venv/lib/python3.8/site-packages (from python-dateutil>=2.7.3->pandas>=0.24->yfinance) (1.15.0)\n",
      "\u001b[33mWARNING: You are using pip version 20.1.1; however, version 21.1.2 is available.\n",
      "You should consider upgrading via the '/Users/ktgh/Desktop/Streamlit/.venv/bin/python -m pip install --upgrade pip' command.\u001b[0m\n"
     ]
    }
   ],
   "source": [
    "!pip3 install yfinance"
   ]
  },
  {
   "cell_type": "code",
   "execution_count": 5,
   "metadata": {},
   "outputs": [],
   "source": [
    "import pandas as pd \n",
    "import matplotlib.pyplot as plt\n",
    "import yfinance as yf\n",
    "\n",
    "%matplotlib inline"
   ]
  },
  {
   "cell_type": "code",
   "execution_count": 6,
   "metadata": {},
   "outputs": [],
   "source": [
    "aapl = yf.Ticker('AAPL')"
   ]
  },
  {
   "cell_type": "code",
   "execution_count": 7,
   "metadata": {},
   "outputs": [
    {
     "output_type": "execute_result",
     "data": {
      "text/plain": [
       "yfinance.Ticker object <AAPL>"
      ]
     },
     "metadata": {},
     "execution_count": 7
    }
   ],
   "source": [
    "aapl"
   ]
  },
  {
   "cell_type": "code",
   "execution_count": 11,
   "metadata": {},
   "outputs": [
    {
     "output_type": "execute_result",
     "data": {
      "text/plain": [
       "                  Open        High         Low       Close     Volume  \\\n",
       "Date                                                                    \n",
       "2021-05-03  131.816094  133.842666  131.606459  132.315247   75135100   \n",
       "2021-05-04  130.967542  131.267036  126.485150  127.633202  137564700   \n",
       "2021-05-05  128.980915  130.228796  127.753005  127.882790   84000900   \n",
       "2021-05-06  127.673135  129.529982  126.914422  129.520004   78128300   \n",
       "2021-05-07  130.850006  131.259995  129.479996  130.210007   78892700   \n",
       "2021-05-10  129.410004  129.539993  126.809998  126.849998   88071200   \n",
       "2021-05-11  123.500000  126.269997  122.769997  125.910004  126142800   \n",
       "2021-05-12  123.400002  124.639999  122.250000  122.769997  112172300   \n",
       "2021-05-13  124.580002  126.150002  124.260002  124.970001  105861300   \n",
       "2021-05-14  126.250000  127.889999  125.849998  127.449997   81806500   \n",
       "2021-05-17  126.820000  126.930000  125.169998  126.269997   74244600   \n",
       "2021-05-18  126.559998  126.989998  124.779999  124.849998   63342900   \n",
       "2021-05-19  123.160004  124.919998  122.860001  124.690002   92612000   \n",
       "2021-05-20  125.230003  127.720001  125.099998  127.309998   76756000   \n",
       "2021-05-21  127.820000  128.000000  125.209999  125.430000   79209300   \n",
       "2021-05-24  126.010002  127.940002  125.940002  127.099998   63092900   \n",
       "2021-05-25  127.820000  128.320007  126.320000  126.900002   72009500   \n",
       "2021-05-26  126.959999  127.389999  126.419998  126.849998   56575900   \n",
       "2021-05-27  126.440002  127.639999  125.080002  125.279999   94512200   \n",
       "2021-05-28  125.570000  125.790001  124.550003  124.610001   71311109   \n",
       "\n",
       "            Dividends  Stock Splits  \n",
       "Date                                 \n",
       "2021-05-03       0.00             0  \n",
       "2021-05-04       0.00             0  \n",
       "2021-05-05       0.00             0  \n",
       "2021-05-06       0.00             0  \n",
       "2021-05-07       0.22             0  \n",
       "2021-05-10       0.00             0  \n",
       "2021-05-11       0.00             0  \n",
       "2021-05-12       0.00             0  \n",
       "2021-05-13       0.00             0  \n",
       "2021-05-14       0.00             0  \n",
       "2021-05-17       0.00             0  \n",
       "2021-05-18       0.00             0  \n",
       "2021-05-19       0.00             0  \n",
       "2021-05-20       0.00             0  \n",
       "2021-05-21       0.00             0  \n",
       "2021-05-24       0.00             0  \n",
       "2021-05-25       0.00             0  \n",
       "2021-05-26       0.00             0  \n",
       "2021-05-27       0.00             0  \n",
       "2021-05-28       0.00             0  "
      ],
      "text/html": "<div>\n<style scoped>\n    .dataframe tbody tr th:only-of-type {\n        vertical-align: middle;\n    }\n\n    .dataframe tbody tr th {\n        vertical-align: top;\n    }\n\n    .dataframe thead th {\n        text-align: right;\n    }\n</style>\n<table border=\"1\" class=\"dataframe\">\n  <thead>\n    <tr style=\"text-align: right;\">\n      <th></th>\n      <th>Open</th>\n      <th>High</th>\n      <th>Low</th>\n      <th>Close</th>\n      <th>Volume</th>\n      <th>Dividends</th>\n      <th>Stock Splits</th>\n    </tr>\n    <tr>\n      <th>Date</th>\n      <th></th>\n      <th></th>\n      <th></th>\n      <th></th>\n      <th></th>\n      <th></th>\n      <th></th>\n    </tr>\n  </thead>\n  <tbody>\n    <tr>\n      <th>2021-05-03</th>\n      <td>131.816094</td>\n      <td>133.842666</td>\n      <td>131.606459</td>\n      <td>132.315247</td>\n      <td>75135100</td>\n      <td>0.00</td>\n      <td>0</td>\n    </tr>\n    <tr>\n      <th>2021-05-04</th>\n      <td>130.967542</td>\n      <td>131.267036</td>\n      <td>126.485150</td>\n      <td>127.633202</td>\n      <td>137564700</td>\n      <td>0.00</td>\n      <td>0</td>\n    </tr>\n    <tr>\n      <th>2021-05-05</th>\n      <td>128.980915</td>\n      <td>130.228796</td>\n      <td>127.753005</td>\n      <td>127.882790</td>\n      <td>84000900</td>\n      <td>0.00</td>\n      <td>0</td>\n    </tr>\n    <tr>\n      <th>2021-05-06</th>\n      <td>127.673135</td>\n      <td>129.529982</td>\n      <td>126.914422</td>\n      <td>129.520004</td>\n      <td>78128300</td>\n      <td>0.00</td>\n      <td>0</td>\n    </tr>\n    <tr>\n      <th>2021-05-07</th>\n      <td>130.850006</td>\n      <td>131.259995</td>\n      <td>129.479996</td>\n      <td>130.210007</td>\n      <td>78892700</td>\n      <td>0.22</td>\n      <td>0</td>\n    </tr>\n    <tr>\n      <th>2021-05-10</th>\n      <td>129.410004</td>\n      <td>129.539993</td>\n      <td>126.809998</td>\n      <td>126.849998</td>\n      <td>88071200</td>\n      <td>0.00</td>\n      <td>0</td>\n    </tr>\n    <tr>\n      <th>2021-05-11</th>\n      <td>123.500000</td>\n      <td>126.269997</td>\n      <td>122.769997</td>\n      <td>125.910004</td>\n      <td>126142800</td>\n      <td>0.00</td>\n      <td>0</td>\n    </tr>\n    <tr>\n      <th>2021-05-12</th>\n      <td>123.400002</td>\n      <td>124.639999</td>\n      <td>122.250000</td>\n      <td>122.769997</td>\n      <td>112172300</td>\n      <td>0.00</td>\n      <td>0</td>\n    </tr>\n    <tr>\n      <th>2021-05-13</th>\n      <td>124.580002</td>\n      <td>126.150002</td>\n      <td>124.260002</td>\n      <td>124.970001</td>\n      <td>105861300</td>\n      <td>0.00</td>\n      <td>0</td>\n    </tr>\n    <tr>\n      <th>2021-05-14</th>\n      <td>126.250000</td>\n      <td>127.889999</td>\n      <td>125.849998</td>\n      <td>127.449997</td>\n      <td>81806500</td>\n      <td>0.00</td>\n      <td>0</td>\n    </tr>\n    <tr>\n      <th>2021-05-17</th>\n      <td>126.820000</td>\n      <td>126.930000</td>\n      <td>125.169998</td>\n      <td>126.269997</td>\n      <td>74244600</td>\n      <td>0.00</td>\n      <td>0</td>\n    </tr>\n    <tr>\n      <th>2021-05-18</th>\n      <td>126.559998</td>\n      <td>126.989998</td>\n      <td>124.779999</td>\n      <td>124.849998</td>\n      <td>63342900</td>\n      <td>0.00</td>\n      <td>0</td>\n    </tr>\n    <tr>\n      <th>2021-05-19</th>\n      <td>123.160004</td>\n      <td>124.919998</td>\n      <td>122.860001</td>\n      <td>124.690002</td>\n      <td>92612000</td>\n      <td>0.00</td>\n      <td>0</td>\n    </tr>\n    <tr>\n      <th>2021-05-20</th>\n      <td>125.230003</td>\n      <td>127.720001</td>\n      <td>125.099998</td>\n      <td>127.309998</td>\n      <td>76756000</td>\n      <td>0.00</td>\n      <td>0</td>\n    </tr>\n    <tr>\n      <th>2021-05-21</th>\n      <td>127.820000</td>\n      <td>128.000000</td>\n      <td>125.209999</td>\n      <td>125.430000</td>\n      <td>79209300</td>\n      <td>0.00</td>\n      <td>0</td>\n    </tr>\n    <tr>\n      <th>2021-05-24</th>\n      <td>126.010002</td>\n      <td>127.940002</td>\n      <td>125.940002</td>\n      <td>127.099998</td>\n      <td>63092900</td>\n      <td>0.00</td>\n      <td>0</td>\n    </tr>\n    <tr>\n      <th>2021-05-25</th>\n      <td>127.820000</td>\n      <td>128.320007</td>\n      <td>126.320000</td>\n      <td>126.900002</td>\n      <td>72009500</td>\n      <td>0.00</td>\n      <td>0</td>\n    </tr>\n    <tr>\n      <th>2021-05-26</th>\n      <td>126.959999</td>\n      <td>127.389999</td>\n      <td>126.419998</td>\n      <td>126.849998</td>\n      <td>56575900</td>\n      <td>0.00</td>\n      <td>0</td>\n    </tr>\n    <tr>\n      <th>2021-05-27</th>\n      <td>126.440002</td>\n      <td>127.639999</td>\n      <td>125.080002</td>\n      <td>125.279999</td>\n      <td>94512200</td>\n      <td>0.00</td>\n      <td>0</td>\n    </tr>\n    <tr>\n      <th>2021-05-28</th>\n      <td>125.570000</td>\n      <td>125.790001</td>\n      <td>124.550003</td>\n      <td>124.610001</td>\n      <td>71311109</td>\n      <td>0.00</td>\n      <td>0</td>\n    </tr>\n  </tbody>\n</table>\n</div>"
     },
     "metadata": {},
     "execution_count": 11
    }
   ],
   "source": [
    "days = 20\n",
    "hist = aapl.history(period=f'{days}d')\n",
    "hist"
   ]
  },
  {
   "cell_type": "code",
   "execution_count": 13,
   "metadata": {},
   "outputs": [
    {
     "output_type": "execute_result",
     "data": {
      "text/plain": [
       "Index(['Open', 'High', 'Low', 'Close', 'Volume', 'Dividends', 'Stock Splits'], dtype='object')"
      ]
     },
     "metadata": {},
     "execution_count": 13
    }
   ],
   "source": [
    "hist.columns"
   ]
  },
  {
   "cell_type": "code",
   "execution_count": 15,
   "metadata": {},
   "outputs": [
    {
     "output_type": "execute_result",
     "data": {
      "text/plain": [
       "(20, 8)"
      ]
     },
     "metadata": {},
     "execution_count": 15
    }
   ],
   "source": [
    "hist.reset_index().shape"
   ]
  },
  {
   "cell_type": "code",
   "execution_count": 16,
   "metadata": {},
   "outputs": [
    {
     "output_type": "execute_result",
     "data": {
      "text/plain": [
       "                  Open        High         Low       Close    Volume  \\\n",
       "Date                                                                   \n",
       "2021-05-03  252.816215  253.764039  250.541469  251.279770  19626600   \n",
       "2021-05-04  250.391829  250.631281  245.193825  247.219147  32756100   \n",
       "2021-05-05  248.486221  248.925210  245.253695  245.902191  21901300   \n",
       "2021-05-06  245.882236  249.284384  244.126296  249.154678  26491100   \n",
       "2021-05-07  251.569089  253.714145  250.591351  251.878387  27010100   \n",
       "2021-05-10  250.292051  251.150071  246.550691  246.610550  29299900   \n",
       "2021-05-11  243.986613  246.031893  242.011178  245.662735  33641600   \n",
       "2021-05-12  241.612097  243.817013  237.521552  238.449402  36684400   \n",
       "2021-05-13  241.242946  245.034195  240.863817  242.470108  29624300   \n",
       "2021-05-14  245.014237  248.605934  244.924448  247.578308  23868600   \n",
       "2021-05-17  245.982012  246.021913  242.958994  244.615158  24970200   \n",
       "2021-05-18  245.702658  245.842335  242.340411  242.520004  20168000   \n",
       "2021-05-19  239.309998  243.229996  238.600006  243.119995  25739800   \n",
       "2021-05-20  243.960007  247.949997  243.860001  246.479996  21792500   \n",
       "2021-05-21  247.570007  248.330002  244.740005  245.169998  21855500   \n",
       "2021-05-24  247.789993  251.160004  247.509995  250.779999  21411500   \n",
       "2021-05-25  251.770004  252.750000  250.820007  251.720001  17704300   \n",
       "2021-05-26  251.429993  252.940002  250.750000  251.490005  17771600   \n",
       "2021-05-27  251.169998  251.479996  249.250000  249.309998  24410800   \n",
       "2021-05-28  250.994995  252.080002  249.559998  249.679993  18050657   \n",
       "\n",
       "            Dividends  Stock Splits  \n",
       "Date                                 \n",
       "2021-05-03       0.00             0  \n",
       "2021-05-04       0.00             0  \n",
       "2021-05-05       0.00             0  \n",
       "2021-05-06       0.00             0  \n",
       "2021-05-07       0.00             0  \n",
       "2021-05-10       0.00             0  \n",
       "2021-05-11       0.00             0  \n",
       "2021-05-12       0.00             0  \n",
       "2021-05-13       0.00             0  \n",
       "2021-05-14       0.00             0  \n",
       "2021-05-17       0.00             0  \n",
       "2021-05-18       0.00             0  \n",
       "2021-05-19       0.56             0  \n",
       "2021-05-20       0.00             0  \n",
       "2021-05-21       0.00             0  \n",
       "2021-05-24       0.00             0  \n",
       "2021-05-25       0.00             0  \n",
       "2021-05-26       0.00             0  \n",
       "2021-05-27       0.00             0  \n",
       "2021-05-28       0.00             0  "
      ],
      "text/html": "<div>\n<style scoped>\n    .dataframe tbody tr th:only-of-type {\n        vertical-align: middle;\n    }\n\n    .dataframe tbody tr th {\n        vertical-align: top;\n    }\n\n    .dataframe thead th {\n        text-align: right;\n    }\n</style>\n<table border=\"1\" class=\"dataframe\">\n  <thead>\n    <tr style=\"text-align: right;\">\n      <th></th>\n      <th>Open</th>\n      <th>High</th>\n      <th>Low</th>\n      <th>Close</th>\n      <th>Volume</th>\n      <th>Dividends</th>\n      <th>Stock Splits</th>\n    </tr>\n    <tr>\n      <th>Date</th>\n      <th></th>\n      <th></th>\n      <th></th>\n      <th></th>\n      <th></th>\n      <th></th>\n      <th></th>\n    </tr>\n  </thead>\n  <tbody>\n    <tr>\n      <th>2021-05-03</th>\n      <td>252.816215</td>\n      <td>253.764039</td>\n      <td>250.541469</td>\n      <td>251.279770</td>\n      <td>19626600</td>\n      <td>0.00</td>\n      <td>0</td>\n    </tr>\n    <tr>\n      <th>2021-05-04</th>\n      <td>250.391829</td>\n      <td>250.631281</td>\n      <td>245.193825</td>\n      <td>247.219147</td>\n      <td>32756100</td>\n      <td>0.00</td>\n      <td>0</td>\n    </tr>\n    <tr>\n      <th>2021-05-05</th>\n      <td>248.486221</td>\n      <td>248.925210</td>\n      <td>245.253695</td>\n      <td>245.902191</td>\n      <td>21901300</td>\n      <td>0.00</td>\n      <td>0</td>\n    </tr>\n    <tr>\n      <th>2021-05-06</th>\n      <td>245.882236</td>\n      <td>249.284384</td>\n      <td>244.126296</td>\n      <td>249.154678</td>\n      <td>26491100</td>\n      <td>0.00</td>\n      <td>0</td>\n    </tr>\n    <tr>\n      <th>2021-05-07</th>\n      <td>251.569089</td>\n      <td>253.714145</td>\n      <td>250.591351</td>\n      <td>251.878387</td>\n      <td>27010100</td>\n      <td>0.00</td>\n      <td>0</td>\n    </tr>\n    <tr>\n      <th>2021-05-10</th>\n      <td>250.292051</td>\n      <td>251.150071</td>\n      <td>246.550691</td>\n      <td>246.610550</td>\n      <td>29299900</td>\n      <td>0.00</td>\n      <td>0</td>\n    </tr>\n    <tr>\n      <th>2021-05-11</th>\n      <td>243.986613</td>\n      <td>246.031893</td>\n      <td>242.011178</td>\n      <td>245.662735</td>\n      <td>33641600</td>\n      <td>0.00</td>\n      <td>0</td>\n    </tr>\n    <tr>\n      <th>2021-05-12</th>\n      <td>241.612097</td>\n      <td>243.817013</td>\n      <td>237.521552</td>\n      <td>238.449402</td>\n      <td>36684400</td>\n      <td>0.00</td>\n      <td>0</td>\n    </tr>\n    <tr>\n      <th>2021-05-13</th>\n      <td>241.242946</td>\n      <td>245.034195</td>\n      <td>240.863817</td>\n      <td>242.470108</td>\n      <td>29624300</td>\n      <td>0.00</td>\n      <td>0</td>\n    </tr>\n    <tr>\n      <th>2021-05-14</th>\n      <td>245.014237</td>\n      <td>248.605934</td>\n      <td>244.924448</td>\n      <td>247.578308</td>\n      <td>23868600</td>\n      <td>0.00</td>\n      <td>0</td>\n    </tr>\n    <tr>\n      <th>2021-05-17</th>\n      <td>245.982012</td>\n      <td>246.021913</td>\n      <td>242.958994</td>\n      <td>244.615158</td>\n      <td>24970200</td>\n      <td>0.00</td>\n      <td>0</td>\n    </tr>\n    <tr>\n      <th>2021-05-18</th>\n      <td>245.702658</td>\n      <td>245.842335</td>\n      <td>242.340411</td>\n      <td>242.520004</td>\n      <td>20168000</td>\n      <td>0.00</td>\n      <td>0</td>\n    </tr>\n    <tr>\n      <th>2021-05-19</th>\n      <td>239.309998</td>\n      <td>243.229996</td>\n      <td>238.600006</td>\n      <td>243.119995</td>\n      <td>25739800</td>\n      <td>0.56</td>\n      <td>0</td>\n    </tr>\n    <tr>\n      <th>2021-05-20</th>\n      <td>243.960007</td>\n      <td>247.949997</td>\n      <td>243.860001</td>\n      <td>246.479996</td>\n      <td>21792500</td>\n      <td>0.00</td>\n      <td>0</td>\n    </tr>\n    <tr>\n      <th>2021-05-21</th>\n      <td>247.570007</td>\n      <td>248.330002</td>\n      <td>244.740005</td>\n      <td>245.169998</td>\n      <td>21855500</td>\n      <td>0.00</td>\n      <td>0</td>\n    </tr>\n    <tr>\n      <th>2021-05-24</th>\n      <td>247.789993</td>\n      <td>251.160004</td>\n      <td>247.509995</td>\n      <td>250.779999</td>\n      <td>21411500</td>\n      <td>0.00</td>\n      <td>0</td>\n    </tr>\n    <tr>\n      <th>2021-05-25</th>\n      <td>251.770004</td>\n      <td>252.750000</td>\n      <td>250.820007</td>\n      <td>251.720001</td>\n      <td>17704300</td>\n      <td>0.00</td>\n      <td>0</td>\n    </tr>\n    <tr>\n      <th>2021-05-26</th>\n      <td>251.429993</td>\n      <td>252.940002</td>\n      <td>250.750000</td>\n      <td>251.490005</td>\n      <td>17771600</td>\n      <td>0.00</td>\n      <td>0</td>\n    </tr>\n    <tr>\n      <th>2021-05-27</th>\n      <td>251.169998</td>\n      <td>251.479996</td>\n      <td>249.250000</td>\n      <td>249.309998</td>\n      <td>24410800</td>\n      <td>0.00</td>\n      <td>0</td>\n    </tr>\n    <tr>\n      <th>2021-05-28</th>\n      <td>250.994995</td>\n      <td>252.080002</td>\n      <td>249.559998</td>\n      <td>249.679993</td>\n      <td>18050657</td>\n      <td>0.00</td>\n      <td>0</td>\n    </tr>\n  </tbody>\n</table>\n</div>"
     },
     "metadata": {},
     "execution_count": 16
    }
   ],
   "source": [
    "hist_msft = yf.Ticker('MSFT').history(period=f'{days}d')\n",
    "hist_msft"
   ]
  },
  {
   "cell_type": "code",
   "execution_count": 17,
   "metadata": {},
   "outputs": [
    {
     "output_type": "execute_result",
     "data": {
      "text/plain": [
       "                  Open        High         Low       Close     Volume  \\\n",
       "Date                                                                    \n",
       "2021-05-03  131.816094  133.842666  131.606459  132.315247   75135100   \n",
       "2021-05-04  130.967542  131.267036  126.485150  127.633202  137564700   \n",
       "2021-05-05  128.980915  130.228796  127.753005  127.882790   84000900   \n",
       "2021-05-06  127.673135  129.529982  126.914422  129.520004   78128300   \n",
       "2021-05-07  130.850006  131.259995  129.479996  130.210007   78892700   \n",
       "\n",
       "            Dividends  Stock Splits        Open        High         Low  \\\n",
       "Date                                                                      \n",
       "2021-05-03       0.00             0  252.816215  253.764039  250.541469   \n",
       "2021-05-04       0.00             0  250.391829  250.631281  245.193825   \n",
       "2021-05-05       0.00             0  248.486221  248.925210  245.253695   \n",
       "2021-05-06       0.00             0  245.882236  249.284384  244.126296   \n",
       "2021-05-07       0.22             0  251.569089  253.714145  250.591351   \n",
       "\n",
       "                 Close    Volume  Dividends  Stock Splits  \n",
       "Date                                                       \n",
       "2021-05-03  251.279770  19626600        0.0             0  \n",
       "2021-05-04  247.219147  32756100        0.0             0  \n",
       "2021-05-05  245.902191  21901300        0.0             0  \n",
       "2021-05-06  249.154678  26491100        0.0             0  \n",
       "2021-05-07  251.878387  27010100        0.0             0  "
      ],
      "text/html": "<div>\n<style scoped>\n    .dataframe tbody tr th:only-of-type {\n        vertical-align: middle;\n    }\n\n    .dataframe tbody tr th {\n        vertical-align: top;\n    }\n\n    .dataframe thead th {\n        text-align: right;\n    }\n</style>\n<table border=\"1\" class=\"dataframe\">\n  <thead>\n    <tr style=\"text-align: right;\">\n      <th></th>\n      <th>Open</th>\n      <th>High</th>\n      <th>Low</th>\n      <th>Close</th>\n      <th>Volume</th>\n      <th>Dividends</th>\n      <th>Stock Splits</th>\n      <th>Open</th>\n      <th>High</th>\n      <th>Low</th>\n      <th>Close</th>\n      <th>Volume</th>\n      <th>Dividends</th>\n      <th>Stock Splits</th>\n    </tr>\n    <tr>\n      <th>Date</th>\n      <th></th>\n      <th></th>\n      <th></th>\n      <th></th>\n      <th></th>\n      <th></th>\n      <th></th>\n      <th></th>\n      <th></th>\n      <th></th>\n      <th></th>\n      <th></th>\n      <th></th>\n      <th></th>\n    </tr>\n  </thead>\n  <tbody>\n    <tr>\n      <th>2021-05-03</th>\n      <td>131.816094</td>\n      <td>133.842666</td>\n      <td>131.606459</td>\n      <td>132.315247</td>\n      <td>75135100</td>\n      <td>0.00</td>\n      <td>0</td>\n      <td>252.816215</td>\n      <td>253.764039</td>\n      <td>250.541469</td>\n      <td>251.279770</td>\n      <td>19626600</td>\n      <td>0.0</td>\n      <td>0</td>\n    </tr>\n    <tr>\n      <th>2021-05-04</th>\n      <td>130.967542</td>\n      <td>131.267036</td>\n      <td>126.485150</td>\n      <td>127.633202</td>\n      <td>137564700</td>\n      <td>0.00</td>\n      <td>0</td>\n      <td>250.391829</td>\n      <td>250.631281</td>\n      <td>245.193825</td>\n      <td>247.219147</td>\n      <td>32756100</td>\n      <td>0.0</td>\n      <td>0</td>\n    </tr>\n    <tr>\n      <th>2021-05-05</th>\n      <td>128.980915</td>\n      <td>130.228796</td>\n      <td>127.753005</td>\n      <td>127.882790</td>\n      <td>84000900</td>\n      <td>0.00</td>\n      <td>0</td>\n      <td>248.486221</td>\n      <td>248.925210</td>\n      <td>245.253695</td>\n      <td>245.902191</td>\n      <td>21901300</td>\n      <td>0.0</td>\n      <td>0</td>\n    </tr>\n    <tr>\n      <th>2021-05-06</th>\n      <td>127.673135</td>\n      <td>129.529982</td>\n      <td>126.914422</td>\n      <td>129.520004</td>\n      <td>78128300</td>\n      <td>0.00</td>\n      <td>0</td>\n      <td>245.882236</td>\n      <td>249.284384</td>\n      <td>244.126296</td>\n      <td>249.154678</td>\n      <td>26491100</td>\n      <td>0.0</td>\n      <td>0</td>\n    </tr>\n    <tr>\n      <th>2021-05-07</th>\n      <td>130.850006</td>\n      <td>131.259995</td>\n      <td>129.479996</td>\n      <td>130.210007</td>\n      <td>78892700</td>\n      <td>0.22</td>\n      <td>0</td>\n      <td>251.569089</td>\n      <td>253.714145</td>\n      <td>250.591351</td>\n      <td>251.878387</td>\n      <td>27010100</td>\n      <td>0.0</td>\n      <td>0</td>\n    </tr>\n  </tbody>\n</table>\n</div>"
     },
     "metadata": {},
     "execution_count": 17
    }
   ],
   "source": [
    "pd.concat([hist, hist_msft], axis=1).head()"
   ]
  },
  {
   "cell_type": "code",
   "execution_count": 18,
   "metadata": {},
   "outputs": [
    {
     "output_type": "execute_result",
     "data": {
      "text/plain": [
       "DatetimeIndex(['2021-05-03', '2021-05-04', '2021-05-05', '2021-05-06',\n",
       "               '2021-05-07', '2021-05-10', '2021-05-11', '2021-05-12',\n",
       "               '2021-05-13', '2021-05-14', '2021-05-17', '2021-05-18',\n",
       "               '2021-05-19', '2021-05-20', '2021-05-21', '2021-05-24',\n",
       "               '2021-05-25', '2021-05-26', '2021-05-27', '2021-05-28'],\n",
       "              dtype='datetime64[ns]', name='Date', freq=None)"
      ]
     },
     "metadata": {},
     "execution_count": 18
    }
   ],
   "source": [
    "hist.index"
   ]
  },
  {
   "cell_type": "code",
   "execution_count": 20,
   "metadata": {},
   "outputs": [],
   "source": [
    "hist.index = hist.index.strftime('%d %B %Y')"
   ]
  },
  {
   "cell_type": "code",
   "execution_count": 21,
   "metadata": {},
   "outputs": [
    {
     "output_type": "execute_result",
     "data": {
      "text/plain": [
       "                   Open        High         Low       Close     Volume  \\\n",
       "Date                                                                     \n",
       "03 May 2021  131.816094  133.842666  131.606459  132.315247   75135100   \n",
       "04 May 2021  130.967542  131.267036  126.485150  127.633202  137564700   \n",
       "05 May 2021  128.980915  130.228796  127.753005  127.882790   84000900   \n",
       "06 May 2021  127.673135  129.529982  126.914422  129.520004   78128300   \n",
       "07 May 2021  130.850006  131.259995  129.479996  130.210007   78892700   \n",
       "\n",
       "             Dividends  Stock Splits  \n",
       "Date                                  \n",
       "03 May 2021       0.00             0  \n",
       "04 May 2021       0.00             0  \n",
       "05 May 2021       0.00             0  \n",
       "06 May 2021       0.00             0  \n",
       "07 May 2021       0.22             0  "
      ],
      "text/html": "<div>\n<style scoped>\n    .dataframe tbody tr th:only-of-type {\n        vertical-align: middle;\n    }\n\n    .dataframe tbody tr th {\n        vertical-align: top;\n    }\n\n    .dataframe thead th {\n        text-align: right;\n    }\n</style>\n<table border=\"1\" class=\"dataframe\">\n  <thead>\n    <tr style=\"text-align: right;\">\n      <th></th>\n      <th>Open</th>\n      <th>High</th>\n      <th>Low</th>\n      <th>Close</th>\n      <th>Volume</th>\n      <th>Dividends</th>\n      <th>Stock Splits</th>\n    </tr>\n    <tr>\n      <th>Date</th>\n      <th></th>\n      <th></th>\n      <th></th>\n      <th></th>\n      <th></th>\n      <th></th>\n      <th></th>\n    </tr>\n  </thead>\n  <tbody>\n    <tr>\n      <th>03 May 2021</th>\n      <td>131.816094</td>\n      <td>133.842666</td>\n      <td>131.606459</td>\n      <td>132.315247</td>\n      <td>75135100</td>\n      <td>0.00</td>\n      <td>0</td>\n    </tr>\n    <tr>\n      <th>04 May 2021</th>\n      <td>130.967542</td>\n      <td>131.267036</td>\n      <td>126.485150</td>\n      <td>127.633202</td>\n      <td>137564700</td>\n      <td>0.00</td>\n      <td>0</td>\n    </tr>\n    <tr>\n      <th>05 May 2021</th>\n      <td>128.980915</td>\n      <td>130.228796</td>\n      <td>127.753005</td>\n      <td>127.882790</td>\n      <td>84000900</td>\n      <td>0.00</td>\n      <td>0</td>\n    </tr>\n    <tr>\n      <th>06 May 2021</th>\n      <td>127.673135</td>\n      <td>129.529982</td>\n      <td>126.914422</td>\n      <td>129.520004</td>\n      <td>78128300</td>\n      <td>0.00</td>\n      <td>0</td>\n    </tr>\n    <tr>\n      <th>07 May 2021</th>\n      <td>130.850006</td>\n      <td>131.259995</td>\n      <td>129.479996</td>\n      <td>130.210007</td>\n      <td>78892700</td>\n      <td>0.22</td>\n      <td>0</td>\n    </tr>\n  </tbody>\n</table>\n</div>"
     },
     "metadata": {},
     "execution_count": 21
    }
   ],
   "source": [
    "hist.head()"
   ]
  },
  {
   "cell_type": "code",
   "execution_count": 23,
   "metadata": {},
   "outputs": [
    {
     "output_type": "execute_result",
     "data": {
      "text/plain": [
       "                  apple\n",
       "Date                   \n",
       "03 May 2021  132.315247\n",
       "04 May 2021  127.633202\n",
       "05 May 2021  127.882790\n",
       "06 May 2021  129.520004\n",
       "07 May 2021  130.210007"
      ],
      "text/html": "<div>\n<style scoped>\n    .dataframe tbody tr th:only-of-type {\n        vertical-align: middle;\n    }\n\n    .dataframe tbody tr th {\n        vertical-align: top;\n    }\n\n    .dataframe thead th {\n        text-align: right;\n    }\n</style>\n<table border=\"1\" class=\"dataframe\">\n  <thead>\n    <tr style=\"text-align: right;\">\n      <th></th>\n      <th>apple</th>\n    </tr>\n    <tr>\n      <th>Date</th>\n      <th></th>\n    </tr>\n  </thead>\n  <tbody>\n    <tr>\n      <th>03 May 2021</th>\n      <td>132.315247</td>\n    </tr>\n    <tr>\n      <th>04 May 2021</th>\n      <td>127.633202</td>\n    </tr>\n    <tr>\n      <th>05 May 2021</th>\n      <td>127.882790</td>\n    </tr>\n    <tr>\n      <th>06 May 2021</th>\n      <td>129.520004</td>\n    </tr>\n    <tr>\n      <th>07 May 2021</th>\n      <td>130.210007</td>\n    </tr>\n  </tbody>\n</table>\n</div>"
     },
     "metadata": {},
     "execution_count": 23
    }
   ],
   "source": [
    "hist = hist[['Close']]\n",
    "hist.columns = ['apple']\n",
    "hist.head()"
   ]
  },
  {
   "cell_type": "code",
   "execution_count": 28,
   "metadata": {},
   "outputs": [
    {
     "output_type": "execute_result",
     "data": {
      "text/plain": [
       "Date   03 May 2021  04 May 2021  05 May 2021  06 May 2021  07 May 2021  \\\n",
       "apple   132.315247   127.633202    127.88279   129.520004   130.210007   \n",
       "\n",
       "Date   10 May 2021  11 May 2021  12 May 2021  13 May 2021  14 May 2021  \\\n",
       "apple   126.849998   125.910004   122.769997   124.970001   127.449997   \n",
       "\n",
       "Date   17 May 2021  18 May 2021  19 May 2021  20 May 2021  21 May 2021  \\\n",
       "apple   126.269997   124.849998   124.690002   127.309998       125.43   \n",
       "\n",
       "Date   24 May 2021  25 May 2021  26 May 2021  27 May 2021  28 May 2021  \n",
       "apple   127.099998   126.900002   126.849998   125.279999   124.610001  "
      ],
      "text/html": "<div>\n<style scoped>\n    .dataframe tbody tr th:only-of-type {\n        vertical-align: middle;\n    }\n\n    .dataframe tbody tr th {\n        vertical-align: top;\n    }\n\n    .dataframe thead th {\n        text-align: right;\n    }\n</style>\n<table border=\"1\" class=\"dataframe\">\n  <thead>\n    <tr style=\"text-align: right;\">\n      <th>Date</th>\n      <th>03 May 2021</th>\n      <th>04 May 2021</th>\n      <th>05 May 2021</th>\n      <th>06 May 2021</th>\n      <th>07 May 2021</th>\n      <th>10 May 2021</th>\n      <th>11 May 2021</th>\n      <th>12 May 2021</th>\n      <th>13 May 2021</th>\n      <th>14 May 2021</th>\n      <th>17 May 2021</th>\n      <th>18 May 2021</th>\n      <th>19 May 2021</th>\n      <th>20 May 2021</th>\n      <th>21 May 2021</th>\n      <th>24 May 2021</th>\n      <th>25 May 2021</th>\n      <th>26 May 2021</th>\n      <th>27 May 2021</th>\n      <th>28 May 2021</th>\n    </tr>\n  </thead>\n  <tbody>\n    <tr>\n      <th>apple</th>\n      <td>132.315247</td>\n      <td>127.633202</td>\n      <td>127.88279</td>\n      <td>129.520004</td>\n      <td>130.210007</td>\n      <td>126.849998</td>\n      <td>125.910004</td>\n      <td>122.769997</td>\n      <td>124.970001</td>\n      <td>127.449997</td>\n      <td>126.269997</td>\n      <td>124.849998</td>\n      <td>124.690002</td>\n      <td>127.309998</td>\n      <td>125.43</td>\n      <td>127.099998</td>\n      <td>126.900002</td>\n      <td>126.849998</td>\n      <td>125.279999</td>\n      <td>124.610001</td>\n    </tr>\n  </tbody>\n</table>\n</div>"
     },
     "metadata": {},
     "execution_count": 28
    }
   ],
   "source": [
    "hist = hist.T\n",
    "hist"
   ]
  },
  {
   "cell_type": "code",
   "execution_count": 29,
   "metadata": {},
   "outputs": [],
   "source": [
    "hist.index.name = 'Name'"
   ]
  },
  {
   "cell_type": "code",
   "execution_count": 30,
   "metadata": {},
   "outputs": [
    {
     "output_type": "execute_result",
     "data": {
      "text/plain": [
       "Date   03 May 2021  04 May 2021  05 May 2021  06 May 2021  07 May 2021  \\\n",
       "Name                                                                     \n",
       "apple   132.315247   127.633202    127.88279   129.520004   130.210007   \n",
       "\n",
       "Date   10 May 2021  11 May 2021  12 May 2021  13 May 2021  14 May 2021  \\\n",
       "Name                                                                     \n",
       "apple   126.849998   125.910004   122.769997   124.970001   127.449997   \n",
       "\n",
       "Date   17 May 2021  18 May 2021  19 May 2021  20 May 2021  21 May 2021  \\\n",
       "Name                                                                     \n",
       "apple   126.269997   124.849998   124.690002   127.309998       125.43   \n",
       "\n",
       "Date   24 May 2021  25 May 2021  26 May 2021  27 May 2021  28 May 2021  \n",
       "Name                                                                    \n",
       "apple   127.099998   126.900002   126.849998   125.279999   124.610001  "
      ],
      "text/html": "<div>\n<style scoped>\n    .dataframe tbody tr th:only-of-type {\n        vertical-align: middle;\n    }\n\n    .dataframe tbody tr th {\n        vertical-align: top;\n    }\n\n    .dataframe thead th {\n        text-align: right;\n    }\n</style>\n<table border=\"1\" class=\"dataframe\">\n  <thead>\n    <tr style=\"text-align: right;\">\n      <th>Date</th>\n      <th>03 May 2021</th>\n      <th>04 May 2021</th>\n      <th>05 May 2021</th>\n      <th>06 May 2021</th>\n      <th>07 May 2021</th>\n      <th>10 May 2021</th>\n      <th>11 May 2021</th>\n      <th>12 May 2021</th>\n      <th>13 May 2021</th>\n      <th>14 May 2021</th>\n      <th>17 May 2021</th>\n      <th>18 May 2021</th>\n      <th>19 May 2021</th>\n      <th>20 May 2021</th>\n      <th>21 May 2021</th>\n      <th>24 May 2021</th>\n      <th>25 May 2021</th>\n      <th>26 May 2021</th>\n      <th>27 May 2021</th>\n      <th>28 May 2021</th>\n    </tr>\n    <tr>\n      <th>Name</th>\n      <th></th>\n      <th></th>\n      <th></th>\n      <th></th>\n      <th></th>\n      <th></th>\n      <th></th>\n      <th></th>\n      <th></th>\n      <th></th>\n      <th></th>\n      <th></th>\n      <th></th>\n      <th></th>\n      <th></th>\n      <th></th>\n      <th></th>\n      <th></th>\n      <th></th>\n      <th></th>\n    </tr>\n  </thead>\n  <tbody>\n    <tr>\n      <th>apple</th>\n      <td>132.315247</td>\n      <td>127.633202</td>\n      <td>127.88279</td>\n      <td>129.520004</td>\n      <td>130.210007</td>\n      <td>126.849998</td>\n      <td>125.910004</td>\n      <td>122.769997</td>\n      <td>124.970001</td>\n      <td>127.449997</td>\n      <td>126.269997</td>\n      <td>124.849998</td>\n      <td>124.690002</td>\n      <td>127.309998</td>\n      <td>125.43</td>\n      <td>127.099998</td>\n      <td>126.900002</td>\n      <td>126.849998</td>\n      <td>125.279999</td>\n      <td>124.610001</td>\n    </tr>\n  </tbody>\n</table>\n</div>"
     },
     "metadata": {},
     "execution_count": 30
    }
   ],
   "source": [
    "hist"
   ]
  },
  {
   "cell_type": "code",
   "execution_count": null,
   "metadata": {},
   "outputs": [],
   "source": []
  }
 ]
}