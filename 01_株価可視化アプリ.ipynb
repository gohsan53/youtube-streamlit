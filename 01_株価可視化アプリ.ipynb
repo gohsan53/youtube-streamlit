{
 "metadata": {
  "language_info": {
   "codemirror_mode": {
    "name": "ipython",
    "version": 3
   },
   "file_extension": ".py",
   "mimetype": "text/x-python",
   "name": "python",
   "nbconvert_exporter": "python",
   "pygments_lexer": "ipython3",
   "version": "3.8.3"
  },
  "orig_nbformat": 2,
  "kernelspec": {
   "name": "pythonjvsc74a57bd07662613e74e7023491b08a703faf2cb007555fa6c1ce0339d292c691308ce9d1",
   "display_name": "Python 3.8.3 64-bit ('.venv': pipenv)"
  },
  "metadata": {
   "interpreter": {
    "hash": "7662613e74e7023491b08a703faf2cb007555fa6c1ce0339d292c691308ce9d1"
   }
  }
 },
 "nbformat": 4,
 "nbformat_minor": 2,
 "cells": [
  {
   "cell_type": "code",
   "execution_count": 3,
   "metadata": {},
   "outputs": [
    {
     "output_type": "stream",
     "name": "stdout",
     "text": [
      "Requirement already satisfied: yfinance in ./.venv/lib/python3.8/site-packages (0.1.59)\n",
      "Requirement already satisfied: lxml>=4.5.1 in ./.venv/lib/python3.8/site-packages (from yfinance) (4.6.3)\n",
      "Requirement already satisfied: numpy>=1.15 in ./.venv/lib/python3.8/site-packages (from yfinance) (1.20.2)\n",
      "Requirement already satisfied: multitasking>=0.0.7 in ./.venv/lib/python3.8/site-packages (from yfinance) (0.0.9)\n",
      "Requirement already satisfied: requests>=2.20 in ./.venv/lib/python3.8/site-packages (from yfinance) (2.25.1)\n",
      "Requirement already satisfied: pandas>=0.24 in ./.venv/lib/python3.8/site-packages (from yfinance) (1.2.4)\n",
      "Requirement already satisfied: urllib3<1.27,>=1.21.1 in ./.venv/lib/python3.8/site-packages (from requests>=2.20->yfinance) (1.26.4)\n",
      "Requirement already satisfied: chardet<5,>=3.0.2 in ./.venv/lib/python3.8/site-packages (from requests>=2.20->yfinance) (4.0.0)\n",
      "Requirement already satisfied: idna<3,>=2.5 in ./.venv/lib/python3.8/site-packages (from requests>=2.20->yfinance) (2.10)\n",
      "Requirement already satisfied: certifi>=2017.4.17 in ./.venv/lib/python3.8/site-packages (from requests>=2.20->yfinance) (2020.12.5)\n",
      "Requirement already satisfied: pytz>=2017.3 in ./.venv/lib/python3.8/site-packages (from pandas>=0.24->yfinance) (2021.1)\n",
      "Requirement already satisfied: python-dateutil>=2.7.3 in ./.venv/lib/python3.8/site-packages (from pandas>=0.24->yfinance) (2.8.1)\n",
      "Requirement already satisfied: six>=1.5 in ./.venv/lib/python3.8/site-packages (from python-dateutil>=2.7.3->pandas>=0.24->yfinance) (1.15.0)\n",
      "\u001b[33mWARNING: You are using pip version 20.1.1; however, version 21.1.2 is available.\n",
      "You should consider upgrading via the '/Users/ktgh/Desktop/Streamlit/.venv/bin/python -m pip install --upgrade pip' command.\u001b[0m\n"
     ]
    }
   ],
   "source": [
    "!pip3 install yfinance"
   ]
  },
  {
   "cell_type": "code",
   "execution_count": 2,
   "metadata": {},
   "outputs": [],
   "source": [
    "import pandas as pd \n",
    "import matplotlib.pyplot as plt\n",
    "import yfinance as yf\n",
    "\n",
    "%matplotlib inline"
   ]
  },
  {
   "cell_type": "code",
   "execution_count": 6,
   "metadata": {},
   "outputs": [],
   "source": [
    "aapl = yf.Ticker('AAPL')"
   ]
  },
  {
   "cell_type": "code",
   "execution_count": 7,
   "metadata": {},
   "outputs": [
    {
     "output_type": "execute_result",
     "data": {
      "text/plain": [
       "yfinance.Ticker object <AAPL>"
      ]
     },
     "metadata": {},
     "execution_count": 7
    }
   ],
   "source": [
    "aapl"
   ]
  },
  {
   "cell_type": "code",
   "execution_count": 11,
   "metadata": {},
   "outputs": [
    {
     "output_type": "execute_result",
     "data": {
      "text/plain": [
       "                  Open        High         Low       Close     Volume  \\\n",
       "Date                                                                    \n",
       "2021-05-03  131.816094  133.842666  131.606459  132.315247   75135100   \n",
       "2021-05-04  130.967542  131.267036  126.485150  127.633202  137564700   \n",
       "2021-05-05  128.980915  130.228796  127.753005  127.882790   84000900   \n",
       "2021-05-06  127.673135  129.529982  126.914422  129.520004   78128300   \n",
       "2021-05-07  130.850006  131.259995  129.479996  130.210007   78892700   \n",
       "2021-05-10  129.410004  129.539993  126.809998  126.849998   88071200   \n",
       "2021-05-11  123.500000  126.269997  122.769997  125.910004  126142800   \n",
       "2021-05-12  123.400002  124.639999  122.250000  122.769997  112172300   \n",
       "2021-05-13  124.580002  126.150002  124.260002  124.970001  105861300   \n",
       "2021-05-14  126.250000  127.889999  125.849998  127.449997   81806500   \n",
       "2021-05-17  126.820000  126.930000  125.169998  126.269997   74244600   \n",
       "2021-05-18  126.559998  126.989998  124.779999  124.849998   63342900   \n",
       "2021-05-19  123.160004  124.919998  122.860001  124.690002   92612000   \n",
       "2021-05-20  125.230003  127.720001  125.099998  127.309998   76756000   \n",
       "2021-05-21  127.820000  128.000000  125.209999  125.430000   79209300   \n",
       "2021-05-24  126.010002  127.940002  125.940002  127.099998   63092900   \n",
       "2021-05-25  127.820000  128.320007  126.320000  126.900002   72009500   \n",
       "2021-05-26  126.959999  127.389999  126.419998  126.849998   56575900   \n",
       "2021-05-27  126.440002  127.639999  125.080002  125.279999   94512200   \n",
       "2021-05-28  125.570000  125.790001  124.550003  124.610001   71311109   \n",
       "\n",
       "            Dividends  Stock Splits  \n",
       "Date                                 \n",
       "2021-05-03       0.00             0  \n",
       "2021-05-04       0.00             0  \n",
       "2021-05-05       0.00             0  \n",
       "2021-05-06       0.00             0  \n",
       "2021-05-07       0.22             0  \n",
       "2021-05-10       0.00             0  \n",
       "2021-05-11       0.00             0  \n",
       "2021-05-12       0.00             0  \n",
       "2021-05-13       0.00             0  \n",
       "2021-05-14       0.00             0  \n",
       "2021-05-17       0.00             0  \n",
       "2021-05-18       0.00             0  \n",
       "2021-05-19       0.00             0  \n",
       "2021-05-20       0.00             0  \n",
       "2021-05-21       0.00             0  \n",
       "2021-05-24       0.00             0  \n",
       "2021-05-25       0.00             0  \n",
       "2021-05-26       0.00             0  \n",
       "2021-05-27       0.00             0  \n",
       "2021-05-28       0.00             0  "
      ],
      "text/html": "<div>\n<style scoped>\n    .dataframe tbody tr th:only-of-type {\n        vertical-align: middle;\n    }\n\n    .dataframe tbody tr th {\n        vertical-align: top;\n    }\n\n    .dataframe thead th {\n        text-align: right;\n    }\n</style>\n<table border=\"1\" class=\"dataframe\">\n  <thead>\n    <tr style=\"text-align: right;\">\n      <th></th>\n      <th>Open</th>\n      <th>High</th>\n      <th>Low</th>\n      <th>Close</th>\n      <th>Volume</th>\n      <th>Dividends</th>\n      <th>Stock Splits</th>\n    </tr>\n    <tr>\n      <th>Date</th>\n      <th></th>\n      <th></th>\n      <th></th>\n      <th></th>\n      <th></th>\n      <th></th>\n      <th></th>\n    </tr>\n  </thead>\n  <tbody>\n    <tr>\n      <th>2021-05-03</th>\n      <td>131.816094</td>\n      <td>133.842666</td>\n      <td>131.606459</td>\n      <td>132.315247</td>\n      <td>75135100</td>\n      <td>0.00</td>\n      <td>0</td>\n    </tr>\n    <tr>\n      <th>2021-05-04</th>\n      <td>130.967542</td>\n      <td>131.267036</td>\n      <td>126.485150</td>\n      <td>127.633202</td>\n      <td>137564700</td>\n      <td>0.00</td>\n      <td>0</td>\n    </tr>\n    <tr>\n      <th>2021-05-05</th>\n      <td>128.980915</td>\n      <td>130.228796</td>\n      <td>127.753005</td>\n      <td>127.882790</td>\n      <td>84000900</td>\n      <td>0.00</td>\n      <td>0</td>\n    </tr>\n    <tr>\n      <th>2021-05-06</th>\n      <td>127.673135</td>\n      <td>129.529982</td>\n      <td>126.914422</td>\n      <td>129.520004</td>\n      <td>78128300</td>\n      <td>0.00</td>\n      <td>0</td>\n    </tr>\n    <tr>\n      <th>2021-05-07</th>\n      <td>130.850006</td>\n      <td>131.259995</td>\n      <td>129.479996</td>\n      <td>130.210007</td>\n      <td>78892700</td>\n      <td>0.22</td>\n      <td>0</td>\n    </tr>\n    <tr>\n      <th>2021-05-10</th>\n      <td>129.410004</td>\n      <td>129.539993</td>\n      <td>126.809998</td>\n      <td>126.849998</td>\n      <td>88071200</td>\n      <td>0.00</td>\n      <td>0</td>\n    </tr>\n    <tr>\n      <th>2021-05-11</th>\n      <td>123.500000</td>\n      <td>126.269997</td>\n      <td>122.769997</td>\n      <td>125.910004</td>\n      <td>126142800</td>\n      <td>0.00</td>\n      <td>0</td>\n    </tr>\n    <tr>\n      <th>2021-05-12</th>\n      <td>123.400002</td>\n      <td>124.639999</td>\n      <td>122.250000</td>\n      <td>122.769997</td>\n      <td>112172300</td>\n      <td>0.00</td>\n      <td>0</td>\n    </tr>\n    <tr>\n      <th>2021-05-13</th>\n      <td>124.580002</td>\n      <td>126.150002</td>\n      <td>124.260002</td>\n      <td>124.970001</td>\n      <td>105861300</td>\n      <td>0.00</td>\n      <td>0</td>\n    </tr>\n    <tr>\n      <th>2021-05-14</th>\n      <td>126.250000</td>\n      <td>127.889999</td>\n      <td>125.849998</td>\n      <td>127.449997</td>\n      <td>81806500</td>\n      <td>0.00</td>\n      <td>0</td>\n    </tr>\n    <tr>\n      <th>2021-05-17</th>\n      <td>126.820000</td>\n      <td>126.930000</td>\n      <td>125.169998</td>\n      <td>126.269997</td>\n      <td>74244600</td>\n      <td>0.00</td>\n      <td>0</td>\n    </tr>\n    <tr>\n      <th>2021-05-18</th>\n      <td>126.559998</td>\n      <td>126.989998</td>\n      <td>124.779999</td>\n      <td>124.849998</td>\n      <td>63342900</td>\n      <td>0.00</td>\n      <td>0</td>\n    </tr>\n    <tr>\n      <th>2021-05-19</th>\n      <td>123.160004</td>\n      <td>124.919998</td>\n      <td>122.860001</td>\n      <td>124.690002</td>\n      <td>92612000</td>\n      <td>0.00</td>\n      <td>0</td>\n    </tr>\n    <tr>\n      <th>2021-05-20</th>\n      <td>125.230003</td>\n      <td>127.720001</td>\n      <td>125.099998</td>\n      <td>127.309998</td>\n      <td>76756000</td>\n      <td>0.00</td>\n      <td>0</td>\n    </tr>\n    <tr>\n      <th>2021-05-21</th>\n      <td>127.820000</td>\n      <td>128.000000</td>\n      <td>125.209999</td>\n      <td>125.430000</td>\n      <td>79209300</td>\n      <td>0.00</td>\n      <td>0</td>\n    </tr>\n    <tr>\n      <th>2021-05-24</th>\n      <td>126.010002</td>\n      <td>127.940002</td>\n      <td>125.940002</td>\n      <td>127.099998</td>\n      <td>63092900</td>\n      <td>0.00</td>\n      <td>0</td>\n    </tr>\n    <tr>\n      <th>2021-05-25</th>\n      <td>127.820000</td>\n      <td>128.320007</td>\n      <td>126.320000</td>\n      <td>126.900002</td>\n      <td>72009500</td>\n      <td>0.00</td>\n      <td>0</td>\n    </tr>\n    <tr>\n      <th>2021-05-26</th>\n      <td>126.959999</td>\n      <td>127.389999</td>\n      <td>126.419998</td>\n      <td>126.849998</td>\n      <td>56575900</td>\n      <td>0.00</td>\n      <td>0</td>\n    </tr>\n    <tr>\n      <th>2021-05-27</th>\n      <td>126.440002</td>\n      <td>127.639999</td>\n      <td>125.080002</td>\n      <td>125.279999</td>\n      <td>94512200</td>\n      <td>0.00</td>\n      <td>0</td>\n    </tr>\n    <tr>\n      <th>2021-05-28</th>\n      <td>125.570000</td>\n      <td>125.790001</td>\n      <td>124.550003</td>\n      <td>124.610001</td>\n      <td>71311109</td>\n      <td>0.00</td>\n      <td>0</td>\n    </tr>\n  </tbody>\n</table>\n</div>"
     },
     "metadata": {},
     "execution_count": 11
    }
   ],
   "source": [
    "days = 20\n",
    "hist = aapl.history(period=f'{days}d')\n",
    "hist"
   ]
  },
  {
   "cell_type": "code",
   "execution_count": 13,
   "metadata": {},
   "outputs": [
    {
     "output_type": "execute_result",
     "data": {
      "text/plain": [
       "Index(['Open', 'High', 'Low', 'Close', 'Volume', 'Dividends', 'Stock Splits'], dtype='object')"
      ]
     },
     "metadata": {},
     "execution_count": 13
    }
   ],
   "source": [
    "hist.columns"
   ]
  },
  {
   "cell_type": "code",
   "execution_count": 15,
   "metadata": {},
   "outputs": [
    {
     "output_type": "execute_result",
     "data": {
      "text/plain": [
       "(20, 8)"
      ]
     },
     "metadata": {},
     "execution_count": 15
    }
   ],
   "source": [
    "hist.reset_index().shape"
   ]
  },
  {
   "cell_type": "code",
   "execution_count": 16,
   "metadata": {},
   "outputs": [
    {
     "output_type": "execute_result",
     "data": {
      "text/plain": [
       "                  Open        High         Low       Close    Volume  \\\n",
       "Date                                                                   \n",
       "2021-05-03  252.816215  253.764039  250.541469  251.279770  19626600   \n",
       "2021-05-04  250.391829  250.631281  245.193825  247.219147  32756100   \n",
       "2021-05-05  248.486221  248.925210  245.253695  245.902191  21901300   \n",
       "2021-05-06  245.882236  249.284384  244.126296  249.154678  26491100   \n",
       "2021-05-07  251.569089  253.714145  250.591351  251.878387  27010100   \n",
       "2021-05-10  250.292051  251.150071  246.550691  246.610550  29299900   \n",
       "2021-05-11  243.986613  246.031893  242.011178  245.662735  33641600   \n",
       "2021-05-12  241.612097  243.817013  237.521552  238.449402  36684400   \n",
       "2021-05-13  241.242946  245.034195  240.863817  242.470108  29624300   \n",
       "2021-05-14  245.014237  248.605934  244.924448  247.578308  23868600   \n",
       "2021-05-17  245.982012  246.021913  242.958994  244.615158  24970200   \n",
       "2021-05-18  245.702658  245.842335  242.340411  242.520004  20168000   \n",
       "2021-05-19  239.309998  243.229996  238.600006  243.119995  25739800   \n",
       "2021-05-20  243.960007  247.949997  243.860001  246.479996  21792500   \n",
       "2021-05-21  247.570007  248.330002  244.740005  245.169998  21855500   \n",
       "2021-05-24  247.789993  251.160004  247.509995  250.779999  21411500   \n",
       "2021-05-25  251.770004  252.750000  250.820007  251.720001  17704300   \n",
       "2021-05-26  251.429993  252.940002  250.750000  251.490005  17771600   \n",
       "2021-05-27  251.169998  251.479996  249.250000  249.309998  24410800   \n",
       "2021-05-28  250.994995  252.080002  249.559998  249.679993  18050657   \n",
       "\n",
       "            Dividends  Stock Splits  \n",
       "Date                                 \n",
       "2021-05-03       0.00             0  \n",
       "2021-05-04       0.00             0  \n",
       "2021-05-05       0.00             0  \n",
       "2021-05-06       0.00             0  \n",
       "2021-05-07       0.00             0  \n",
       "2021-05-10       0.00             0  \n",
       "2021-05-11       0.00             0  \n",
       "2021-05-12       0.00             0  \n",
       "2021-05-13       0.00             0  \n",
       "2021-05-14       0.00             0  \n",
       "2021-05-17       0.00             0  \n",
       "2021-05-18       0.00             0  \n",
       "2021-05-19       0.56             0  \n",
       "2021-05-20       0.00             0  \n",
       "2021-05-21       0.00             0  \n",
       "2021-05-24       0.00             0  \n",
       "2021-05-25       0.00             0  \n",
       "2021-05-26       0.00             0  \n",
       "2021-05-27       0.00             0  \n",
       "2021-05-28       0.00             0  "
      ],
      "text/html": "<div>\n<style scoped>\n    .dataframe tbody tr th:only-of-type {\n        vertical-align: middle;\n    }\n\n    .dataframe tbody tr th {\n        vertical-align: top;\n    }\n\n    .dataframe thead th {\n        text-align: right;\n    }\n</style>\n<table border=\"1\" class=\"dataframe\">\n  <thead>\n    <tr style=\"text-align: right;\">\n      <th></th>\n      <th>Open</th>\n      <th>High</th>\n      <th>Low</th>\n      <th>Close</th>\n      <th>Volume</th>\n      <th>Dividends</th>\n      <th>Stock Splits</th>\n    </tr>\n    <tr>\n      <th>Date</th>\n      <th></th>\n      <th></th>\n      <th></th>\n      <th></th>\n      <th></th>\n      <th></th>\n      <th></th>\n    </tr>\n  </thead>\n  <tbody>\n    <tr>\n      <th>2021-05-03</th>\n      <td>252.816215</td>\n      <td>253.764039</td>\n      <td>250.541469</td>\n      <td>251.279770</td>\n      <td>19626600</td>\n      <td>0.00</td>\n      <td>0</td>\n    </tr>\n    <tr>\n      <th>2021-05-04</th>\n      <td>250.391829</td>\n      <td>250.631281</td>\n      <td>245.193825</td>\n      <td>247.219147</td>\n      <td>32756100</td>\n      <td>0.00</td>\n      <td>0</td>\n    </tr>\n    <tr>\n      <th>2021-05-05</th>\n      <td>248.486221</td>\n      <td>248.925210</td>\n      <td>245.253695</td>\n      <td>245.902191</td>\n      <td>21901300</td>\n      <td>0.00</td>\n      <td>0</td>\n    </tr>\n    <tr>\n      <th>2021-05-06</th>\n      <td>245.882236</td>\n      <td>249.284384</td>\n      <td>244.126296</td>\n      <td>249.154678</td>\n      <td>26491100</td>\n      <td>0.00</td>\n      <td>0</td>\n    </tr>\n    <tr>\n      <th>2021-05-07</th>\n      <td>251.569089</td>\n      <td>253.714145</td>\n      <td>250.591351</td>\n      <td>251.878387</td>\n      <td>27010100</td>\n      <td>0.00</td>\n      <td>0</td>\n    </tr>\n    <tr>\n      <th>2021-05-10</th>\n      <td>250.292051</td>\n      <td>251.150071</td>\n      <td>246.550691</td>\n      <td>246.610550</td>\n      <td>29299900</td>\n      <td>0.00</td>\n      <td>0</td>\n    </tr>\n    <tr>\n      <th>2021-05-11</th>\n      <td>243.986613</td>\n      <td>246.031893</td>\n      <td>242.011178</td>\n      <td>245.662735</td>\n      <td>33641600</td>\n      <td>0.00</td>\n      <td>0</td>\n    </tr>\n    <tr>\n      <th>2021-05-12</th>\n      <td>241.612097</td>\n      <td>243.817013</td>\n      <td>237.521552</td>\n      <td>238.449402</td>\n      <td>36684400</td>\n      <td>0.00</td>\n      <td>0</td>\n    </tr>\n    <tr>\n      <th>2021-05-13</th>\n      <td>241.242946</td>\n      <td>245.034195</td>\n      <td>240.863817</td>\n      <td>242.470108</td>\n      <td>29624300</td>\n      <td>0.00</td>\n      <td>0</td>\n    </tr>\n    <tr>\n      <th>2021-05-14</th>\n      <td>245.014237</td>\n      <td>248.605934</td>\n      <td>244.924448</td>\n      <td>247.578308</td>\n      <td>23868600</td>\n      <td>0.00</td>\n      <td>0</td>\n    </tr>\n    <tr>\n      <th>2021-05-17</th>\n      <td>245.982012</td>\n      <td>246.021913</td>\n      <td>242.958994</td>\n      <td>244.615158</td>\n      <td>24970200</td>\n      <td>0.00</td>\n      <td>0</td>\n    </tr>\n    <tr>\n      <th>2021-05-18</th>\n      <td>245.702658</td>\n      <td>245.842335</td>\n      <td>242.340411</td>\n      <td>242.520004</td>\n      <td>20168000</td>\n      <td>0.00</td>\n      <td>0</td>\n    </tr>\n    <tr>\n      <th>2021-05-19</th>\n      <td>239.309998</td>\n      <td>243.229996</td>\n      <td>238.600006</td>\n      <td>243.119995</td>\n      <td>25739800</td>\n      <td>0.56</td>\n      <td>0</td>\n    </tr>\n    <tr>\n      <th>2021-05-20</th>\n      <td>243.960007</td>\n      <td>247.949997</td>\n      <td>243.860001</td>\n      <td>246.479996</td>\n      <td>21792500</td>\n      <td>0.00</td>\n      <td>0</td>\n    </tr>\n    <tr>\n      <th>2021-05-21</th>\n      <td>247.570007</td>\n      <td>248.330002</td>\n      <td>244.740005</td>\n      <td>245.169998</td>\n      <td>21855500</td>\n      <td>0.00</td>\n      <td>0</td>\n    </tr>\n    <tr>\n      <th>2021-05-24</th>\n      <td>247.789993</td>\n      <td>251.160004</td>\n      <td>247.509995</td>\n      <td>250.779999</td>\n      <td>21411500</td>\n      <td>0.00</td>\n      <td>0</td>\n    </tr>\n    <tr>\n      <th>2021-05-25</th>\n      <td>251.770004</td>\n      <td>252.750000</td>\n      <td>250.820007</td>\n      <td>251.720001</td>\n      <td>17704300</td>\n      <td>0.00</td>\n      <td>0</td>\n    </tr>\n    <tr>\n      <th>2021-05-26</th>\n      <td>251.429993</td>\n      <td>252.940002</td>\n      <td>250.750000</td>\n      <td>251.490005</td>\n      <td>17771600</td>\n      <td>0.00</td>\n      <td>0</td>\n    </tr>\n    <tr>\n      <th>2021-05-27</th>\n      <td>251.169998</td>\n      <td>251.479996</td>\n      <td>249.250000</td>\n      <td>249.309998</td>\n      <td>24410800</td>\n      <td>0.00</td>\n      <td>0</td>\n    </tr>\n    <tr>\n      <th>2021-05-28</th>\n      <td>250.994995</td>\n      <td>252.080002</td>\n      <td>249.559998</td>\n      <td>249.679993</td>\n      <td>18050657</td>\n      <td>0.00</td>\n      <td>0</td>\n    </tr>\n  </tbody>\n</table>\n</div>"
     },
     "metadata": {},
     "execution_count": 16
    }
   ],
   "source": [
    "hist_msft = yf.Ticker('MSFT').history(period=f'{days}d')\n",
    "hist_msft"
   ]
  },
  {
   "cell_type": "code",
   "execution_count": 17,
   "metadata": {},
   "outputs": [
    {
     "output_type": "execute_result",
     "data": {
      "text/plain": [
       "                  Open        High         Low       Close     Volume  \\\n",
       "Date                                                                    \n",
       "2021-05-03  131.816094  133.842666  131.606459  132.315247   75135100   \n",
       "2021-05-04  130.967542  131.267036  126.485150  127.633202  137564700   \n",
       "2021-05-05  128.980915  130.228796  127.753005  127.882790   84000900   \n",
       "2021-05-06  127.673135  129.529982  126.914422  129.520004   78128300   \n",
       "2021-05-07  130.850006  131.259995  129.479996  130.210007   78892700   \n",
       "\n",
       "            Dividends  Stock Splits        Open        High         Low  \\\n",
       "Date                                                                      \n",
       "2021-05-03       0.00             0  252.816215  253.764039  250.541469   \n",
       "2021-05-04       0.00             0  250.391829  250.631281  245.193825   \n",
       "2021-05-05       0.00             0  248.486221  248.925210  245.253695   \n",
       "2021-05-06       0.00             0  245.882236  249.284384  244.126296   \n",
       "2021-05-07       0.22             0  251.569089  253.714145  250.591351   \n",
       "\n",
       "                 Close    Volume  Dividends  Stock Splits  \n",
       "Date                                                       \n",
       "2021-05-03  251.279770  19626600        0.0             0  \n",
       "2021-05-04  247.219147  32756100        0.0             0  \n",
       "2021-05-05  245.902191  21901300        0.0             0  \n",
       "2021-05-06  249.154678  26491100        0.0             0  \n",
       "2021-05-07  251.878387  27010100        0.0             0  "
      ],
      "text/html": "<div>\n<style scoped>\n    .dataframe tbody tr th:only-of-type {\n        vertical-align: middle;\n    }\n\n    .dataframe tbody tr th {\n        vertical-align: top;\n    }\n\n    .dataframe thead th {\n        text-align: right;\n    }\n</style>\n<table border=\"1\" class=\"dataframe\">\n  <thead>\n    <tr style=\"text-align: right;\">\n      <th></th>\n      <th>Open</th>\n      <th>High</th>\n      <th>Low</th>\n      <th>Close</th>\n      <th>Volume</th>\n      <th>Dividends</th>\n      <th>Stock Splits</th>\n      <th>Open</th>\n      <th>High</th>\n      <th>Low</th>\n      <th>Close</th>\n      <th>Volume</th>\n      <th>Dividends</th>\n      <th>Stock Splits</th>\n    </tr>\n    <tr>\n      <th>Date</th>\n      <th></th>\n      <th></th>\n      <th></th>\n      <th></th>\n      <th></th>\n      <th></th>\n      <th></th>\n      <th></th>\n      <th></th>\n      <th></th>\n      <th></th>\n      <th></th>\n      <th></th>\n      <th></th>\n    </tr>\n  </thead>\n  <tbody>\n    <tr>\n      <th>2021-05-03</th>\n      <td>131.816094</td>\n      <td>133.842666</td>\n      <td>131.606459</td>\n      <td>132.315247</td>\n      <td>75135100</td>\n      <td>0.00</td>\n      <td>0</td>\n      <td>252.816215</td>\n      <td>253.764039</td>\n      <td>250.541469</td>\n      <td>251.279770</td>\n      <td>19626600</td>\n      <td>0.0</td>\n      <td>0</td>\n    </tr>\n    <tr>\n      <th>2021-05-04</th>\n      <td>130.967542</td>\n      <td>131.267036</td>\n      <td>126.485150</td>\n      <td>127.633202</td>\n      <td>137564700</td>\n      <td>0.00</td>\n      <td>0</td>\n      <td>250.391829</td>\n      <td>250.631281</td>\n      <td>245.193825</td>\n      <td>247.219147</td>\n      <td>32756100</td>\n      <td>0.0</td>\n      <td>0</td>\n    </tr>\n    <tr>\n      <th>2021-05-05</th>\n      <td>128.980915</td>\n      <td>130.228796</td>\n      <td>127.753005</td>\n      <td>127.882790</td>\n      <td>84000900</td>\n      <td>0.00</td>\n      <td>0</td>\n      <td>248.486221</td>\n      <td>248.925210</td>\n      <td>245.253695</td>\n      <td>245.902191</td>\n      <td>21901300</td>\n      <td>0.0</td>\n      <td>0</td>\n    </tr>\n    <tr>\n      <th>2021-05-06</th>\n      <td>127.673135</td>\n      <td>129.529982</td>\n      <td>126.914422</td>\n      <td>129.520004</td>\n      <td>78128300</td>\n      <td>0.00</td>\n      <td>0</td>\n      <td>245.882236</td>\n      <td>249.284384</td>\n      <td>244.126296</td>\n      <td>249.154678</td>\n      <td>26491100</td>\n      <td>0.0</td>\n      <td>0</td>\n    </tr>\n    <tr>\n      <th>2021-05-07</th>\n      <td>130.850006</td>\n      <td>131.259995</td>\n      <td>129.479996</td>\n      <td>130.210007</td>\n      <td>78892700</td>\n      <td>0.22</td>\n      <td>0</td>\n      <td>251.569089</td>\n      <td>253.714145</td>\n      <td>250.591351</td>\n      <td>251.878387</td>\n      <td>27010100</td>\n      <td>0.0</td>\n      <td>0</td>\n    </tr>\n  </tbody>\n</table>\n</div>"
     },
     "metadata": {},
     "execution_count": 17
    }
   ],
   "source": [
    "pd.concat([hist, hist_msft], axis=1).head()"
   ]
  },
  {
   "cell_type": "code",
   "execution_count": 18,
   "metadata": {},
   "outputs": [
    {
     "output_type": "execute_result",
     "data": {
      "text/plain": [
       "DatetimeIndex(['2021-05-03', '2021-05-04', '2021-05-05', '2021-05-06',\n",
       "               '2021-05-07', '2021-05-10', '2021-05-11', '2021-05-12',\n",
       "               '2021-05-13', '2021-05-14', '2021-05-17', '2021-05-18',\n",
       "               '2021-05-19', '2021-05-20', '2021-05-21', '2021-05-24',\n",
       "               '2021-05-25', '2021-05-26', '2021-05-27', '2021-05-28'],\n",
       "              dtype='datetime64[ns]', name='Date', freq=None)"
      ]
     },
     "metadata": {},
     "execution_count": 18
    }
   ],
   "source": [
    "hist.index"
   ]
  },
  {
   "cell_type": "code",
   "execution_count": 20,
   "metadata": {},
   "outputs": [],
   "source": [
    "hist.index = hist.index.strftime('%d %B %Y')"
   ]
  },
  {
   "cell_type": "code",
   "execution_count": 21,
   "metadata": {},
   "outputs": [
    {
     "output_type": "execute_result",
     "data": {
      "text/plain": [
       "                   Open        High         Low       Close     Volume  \\\n",
       "Date                                                                     \n",
       "03 May 2021  131.816094  133.842666  131.606459  132.315247   75135100   \n",
       "04 May 2021  130.967542  131.267036  126.485150  127.633202  137564700   \n",
       "05 May 2021  128.980915  130.228796  127.753005  127.882790   84000900   \n",
       "06 May 2021  127.673135  129.529982  126.914422  129.520004   78128300   \n",
       "07 May 2021  130.850006  131.259995  129.479996  130.210007   78892700   \n",
       "\n",
       "             Dividends  Stock Splits  \n",
       "Date                                  \n",
       "03 May 2021       0.00             0  \n",
       "04 May 2021       0.00             0  \n",
       "05 May 2021       0.00             0  \n",
       "06 May 2021       0.00             0  \n",
       "07 May 2021       0.22             0  "
      ],
      "text/html": "<div>\n<style scoped>\n    .dataframe tbody tr th:only-of-type {\n        vertical-align: middle;\n    }\n\n    .dataframe tbody tr th {\n        vertical-align: top;\n    }\n\n    .dataframe thead th {\n        text-align: right;\n    }\n</style>\n<table border=\"1\" class=\"dataframe\">\n  <thead>\n    <tr style=\"text-align: right;\">\n      <th></th>\n      <th>Open</th>\n      <th>High</th>\n      <th>Low</th>\n      <th>Close</th>\n      <th>Volume</th>\n      <th>Dividends</th>\n      <th>Stock Splits</th>\n    </tr>\n    <tr>\n      <th>Date</th>\n      <th></th>\n      <th></th>\n      <th></th>\n      <th></th>\n      <th></th>\n      <th></th>\n      <th></th>\n    </tr>\n  </thead>\n  <tbody>\n    <tr>\n      <th>03 May 2021</th>\n      <td>131.816094</td>\n      <td>133.842666</td>\n      <td>131.606459</td>\n      <td>132.315247</td>\n      <td>75135100</td>\n      <td>0.00</td>\n      <td>0</td>\n    </tr>\n    <tr>\n      <th>04 May 2021</th>\n      <td>130.967542</td>\n      <td>131.267036</td>\n      <td>126.485150</td>\n      <td>127.633202</td>\n      <td>137564700</td>\n      <td>0.00</td>\n      <td>0</td>\n    </tr>\n    <tr>\n      <th>05 May 2021</th>\n      <td>128.980915</td>\n      <td>130.228796</td>\n      <td>127.753005</td>\n      <td>127.882790</td>\n      <td>84000900</td>\n      <td>0.00</td>\n      <td>0</td>\n    </tr>\n    <tr>\n      <th>06 May 2021</th>\n      <td>127.673135</td>\n      <td>129.529982</td>\n      <td>126.914422</td>\n      <td>129.520004</td>\n      <td>78128300</td>\n      <td>0.00</td>\n      <td>0</td>\n    </tr>\n    <tr>\n      <th>07 May 2021</th>\n      <td>130.850006</td>\n      <td>131.259995</td>\n      <td>129.479996</td>\n      <td>130.210007</td>\n      <td>78892700</td>\n      <td>0.22</td>\n      <td>0</td>\n    </tr>\n  </tbody>\n</table>\n</div>"
     },
     "metadata": {},
     "execution_count": 21
    }
   ],
   "source": [
    "hist.head()"
   ]
  },
  {
   "cell_type": "code",
   "execution_count": 23,
   "metadata": {},
   "outputs": [
    {
     "output_type": "execute_result",
     "data": {
      "text/plain": [
       "                  apple\n",
       "Date                   \n",
       "03 May 2021  132.315247\n",
       "04 May 2021  127.633202\n",
       "05 May 2021  127.882790\n",
       "06 May 2021  129.520004\n",
       "07 May 2021  130.210007"
      ],
      "text/html": "<div>\n<style scoped>\n    .dataframe tbody tr th:only-of-type {\n        vertical-align: middle;\n    }\n\n    .dataframe tbody tr th {\n        vertical-align: top;\n    }\n\n    .dataframe thead th {\n        text-align: right;\n    }\n</style>\n<table border=\"1\" class=\"dataframe\">\n  <thead>\n    <tr style=\"text-align: right;\">\n      <th></th>\n      <th>apple</th>\n    </tr>\n    <tr>\n      <th>Date</th>\n      <th></th>\n    </tr>\n  </thead>\n  <tbody>\n    <tr>\n      <th>03 May 2021</th>\n      <td>132.315247</td>\n    </tr>\n    <tr>\n      <th>04 May 2021</th>\n      <td>127.633202</td>\n    </tr>\n    <tr>\n      <th>05 May 2021</th>\n      <td>127.882790</td>\n    </tr>\n    <tr>\n      <th>06 May 2021</th>\n      <td>129.520004</td>\n    </tr>\n    <tr>\n      <th>07 May 2021</th>\n      <td>130.210007</td>\n    </tr>\n  </tbody>\n</table>\n</div>"
     },
     "metadata": {},
     "execution_count": 23
    }
   ],
   "source": [
    "hist = hist[['Close']]\n",
    "hist.columns = ['apple']\n",
    "hist.head()"
   ]
  },
  {
   "cell_type": "code",
   "execution_count": 28,
   "metadata": {},
   "outputs": [
    {
     "output_type": "execute_result",
     "data": {
      "text/plain": [
       "Date   03 May 2021  04 May 2021  05 May 2021  06 May 2021  07 May 2021  \\\n",
       "apple   132.315247   127.633202    127.88279   129.520004   130.210007   \n",
       "\n",
       "Date   10 May 2021  11 May 2021  12 May 2021  13 May 2021  14 May 2021  \\\n",
       "apple   126.849998   125.910004   122.769997   124.970001   127.449997   \n",
       "\n",
       "Date   17 May 2021  18 May 2021  19 May 2021  20 May 2021  21 May 2021  \\\n",
       "apple   126.269997   124.849998   124.690002   127.309998       125.43   \n",
       "\n",
       "Date   24 May 2021  25 May 2021  26 May 2021  27 May 2021  28 May 2021  \n",
       "apple   127.099998   126.900002   126.849998   125.279999   124.610001  "
      ],
      "text/html": "<div>\n<style scoped>\n    .dataframe tbody tr th:only-of-type {\n        vertical-align: middle;\n    }\n\n    .dataframe tbody tr th {\n        vertical-align: top;\n    }\n\n    .dataframe thead th {\n        text-align: right;\n    }\n</style>\n<table border=\"1\" class=\"dataframe\">\n  <thead>\n    <tr style=\"text-align: right;\">\n      <th>Date</th>\n      <th>03 May 2021</th>\n      <th>04 May 2021</th>\n      <th>05 May 2021</th>\n      <th>06 May 2021</th>\n      <th>07 May 2021</th>\n      <th>10 May 2021</th>\n      <th>11 May 2021</th>\n      <th>12 May 2021</th>\n      <th>13 May 2021</th>\n      <th>14 May 2021</th>\n      <th>17 May 2021</th>\n      <th>18 May 2021</th>\n      <th>19 May 2021</th>\n      <th>20 May 2021</th>\n      <th>21 May 2021</th>\n      <th>24 May 2021</th>\n      <th>25 May 2021</th>\n      <th>26 May 2021</th>\n      <th>27 May 2021</th>\n      <th>28 May 2021</th>\n    </tr>\n  </thead>\n  <tbody>\n    <tr>\n      <th>apple</th>\n      <td>132.315247</td>\n      <td>127.633202</td>\n      <td>127.88279</td>\n      <td>129.520004</td>\n      <td>130.210007</td>\n      <td>126.849998</td>\n      <td>125.910004</td>\n      <td>122.769997</td>\n      <td>124.970001</td>\n      <td>127.449997</td>\n      <td>126.269997</td>\n      <td>124.849998</td>\n      <td>124.690002</td>\n      <td>127.309998</td>\n      <td>125.43</td>\n      <td>127.099998</td>\n      <td>126.900002</td>\n      <td>126.849998</td>\n      <td>125.279999</td>\n      <td>124.610001</td>\n    </tr>\n  </tbody>\n</table>\n</div>"
     },
     "metadata": {},
     "execution_count": 28
    }
   ],
   "source": [
    "hist = hist.T\n",
    "hist"
   ]
  },
  {
   "cell_type": "code",
   "execution_count": 29,
   "metadata": {},
   "outputs": [],
   "source": [
    "hist.index.name = 'Name'"
   ]
  },
  {
   "cell_type": "code",
   "execution_count": 30,
   "metadata": {},
   "outputs": [
    {
     "output_type": "execute_result",
     "data": {
      "text/plain": [
       "Date   03 May 2021  04 May 2021  05 May 2021  06 May 2021  07 May 2021  \\\n",
       "Name                                                                     \n",
       "apple   132.315247   127.633202    127.88279   129.520004   130.210007   \n",
       "\n",
       "Date   10 May 2021  11 May 2021  12 May 2021  13 May 2021  14 May 2021  \\\n",
       "Name                                                                     \n",
       "apple   126.849998   125.910004   122.769997   124.970001   127.449997   \n",
       "\n",
       "Date   17 May 2021  18 May 2021  19 May 2021  20 May 2021  21 May 2021  \\\n",
       "Name                                                                     \n",
       "apple   126.269997   124.849998   124.690002   127.309998       125.43   \n",
       "\n",
       "Date   24 May 2021  25 May 2021  26 May 2021  27 May 2021  28 May 2021  \n",
       "Name                                                                    \n",
       "apple   127.099998   126.900002   126.849998   125.279999   124.610001  "
      ],
      "text/html": "<div>\n<style scoped>\n    .dataframe tbody tr th:only-of-type {\n        vertical-align: middle;\n    }\n\n    .dataframe tbody tr th {\n        vertical-align: top;\n    }\n\n    .dataframe thead th {\n        text-align: right;\n    }\n</style>\n<table border=\"1\" class=\"dataframe\">\n  <thead>\n    <tr style=\"text-align: right;\">\n      <th>Date</th>\n      <th>03 May 2021</th>\n      <th>04 May 2021</th>\n      <th>05 May 2021</th>\n      <th>06 May 2021</th>\n      <th>07 May 2021</th>\n      <th>10 May 2021</th>\n      <th>11 May 2021</th>\n      <th>12 May 2021</th>\n      <th>13 May 2021</th>\n      <th>14 May 2021</th>\n      <th>17 May 2021</th>\n      <th>18 May 2021</th>\n      <th>19 May 2021</th>\n      <th>20 May 2021</th>\n      <th>21 May 2021</th>\n      <th>24 May 2021</th>\n      <th>25 May 2021</th>\n      <th>26 May 2021</th>\n      <th>27 May 2021</th>\n      <th>28 May 2021</th>\n    </tr>\n    <tr>\n      <th>Name</th>\n      <th></th>\n      <th></th>\n      <th></th>\n      <th></th>\n      <th></th>\n      <th></th>\n      <th></th>\n      <th></th>\n      <th></th>\n      <th></th>\n      <th></th>\n      <th></th>\n      <th></th>\n      <th></th>\n      <th></th>\n      <th></th>\n      <th></th>\n      <th></th>\n      <th></th>\n      <th></th>\n    </tr>\n  </thead>\n  <tbody>\n    <tr>\n      <th>apple</th>\n      <td>132.315247</td>\n      <td>127.633202</td>\n      <td>127.88279</td>\n      <td>129.520004</td>\n      <td>130.210007</td>\n      <td>126.849998</td>\n      <td>125.910004</td>\n      <td>122.769997</td>\n      <td>124.970001</td>\n      <td>127.449997</td>\n      <td>126.269997</td>\n      <td>124.849998</td>\n      <td>124.690002</td>\n      <td>127.309998</td>\n      <td>125.43</td>\n      <td>127.099998</td>\n      <td>126.900002</td>\n      <td>126.849998</td>\n      <td>125.279999</td>\n      <td>124.610001</td>\n    </tr>\n  </tbody>\n</table>\n</div>"
     },
     "metadata": {},
     "execution_count": 30
    }
   ],
   "source": [
    "hist"
   ]
  },
  {
   "cell_type": "code",
   "execution_count": 13,
   "metadata": {},
   "outputs": [],
   "source": [
    "def get_data(days, tickers):\n",
    "    df = pd.DataFrame()\n",
    "    for company in tickers.keys():\n",
    "        tkr = yf.Ticker(tickers[company])\n",
    "        hist = tkr.history(period=f'{days}d')\n",
    "        hist.index = hist.index.strftime('%d %B %Y')\n",
    "        hist = hist[['Close']]\n",
    "        hist.columns = [company]\n",
    "        hist = hist.T\n",
    "        hist.index.name = 'Name'\n",
    "        df = pd.concat([df, hist])\n",
    "    return df"
   ]
  },
  {
   "cell_type": "code",
   "execution_count": 14,
   "metadata": {},
   "outputs": [
    {
     "output_type": "execute_result",
     "data": {
      "text/plain": [
       "Date       03 May 2021  04 May 2021  05 May 2021  06 May 2021  07 May 2021  \\\n",
       "Name                                                                         \n",
       "apple       132.315247   127.633202   127.882790   129.520004   130.210007   \n",
       "facebook    322.579987   318.359985   315.019989   320.019989   319.079987   \n",
       "google     2343.080078  2306.830078  2314.770020  2337.350098  2351.929932   \n",
       "microsoft   251.279770   247.219147   245.902191   249.154678   251.878387   \n",
       "netflix     509.109985   503.179993   496.079987   499.549988   503.839996   \n",
       "amazon     3386.489990  3311.870117  3270.540039  3306.370117  3291.610107   \n",
       "\n",
       "Date       10 May 2021  11 May 2021  12 May 2021  13 May 2021  14 May 2021  \\\n",
       "Name                                                                         \n",
       "apple       126.849998   125.910004   122.769997   124.970001   127.449997   \n",
       "facebook    305.970001   306.529999   302.549988   305.260010   315.940002   \n",
       "google     2291.750000  2270.060059  2200.250000  2229.040039  2278.379883   \n",
       "microsoft   246.610550   245.662735   238.449402   242.470108   247.578308   \n",
       "netflix     486.690002   495.079987   484.980011   486.660004   493.369995   \n",
       "amazon     3190.489990  3223.909912  3151.939941  3161.469971  3222.899902   \n",
       "\n",
       "Date       17 May 2021  18 May 2021  19 May 2021  20 May 2021  21 May 2021  \\\n",
       "Name                                                                         \n",
       "apple       126.269997   124.849998   124.690002   127.309998   125.430000   \n",
       "facebook    315.459991   309.959991   313.589996   318.609985   316.230011   \n",
       "google     2288.919922  2262.469971  2271.500000  2306.949951  2294.129883   \n",
       "microsoft   244.615158   242.520004   243.119995   246.479996   245.169998   \n",
       "netflix     488.940002   486.279999   487.700012   501.670013   497.890015   \n",
       "amazon     3270.389893  3232.280029  3231.800049  3247.679932  3203.080078   \n",
       "\n",
       "Date       24 May 2021  25 May 2021  26 May 2021  27 May 2021  28 May 2021  \n",
       "Name                                                                        \n",
       "apple       127.099998   126.900002   126.849998   125.279999   124.610001  \n",
       "facebook    324.630005   327.790009   327.660004   332.750000   328.730011  \n",
       "google     2361.040039  2362.870117  2380.310059  2362.679932  2356.850098  \n",
       "microsoft   250.779999   251.720001   251.490005   249.309998   249.679993  \n",
       "netflix     502.899994   501.339996   502.359985   503.859985   502.809998  \n",
       "amazon     3244.989990  3259.050049  3265.159912  3230.110107  3223.070068  "
      ],
      "text/html": "<div>\n<style scoped>\n    .dataframe tbody tr th:only-of-type {\n        vertical-align: middle;\n    }\n\n    .dataframe tbody tr th {\n        vertical-align: top;\n    }\n\n    .dataframe thead th {\n        text-align: right;\n    }\n</style>\n<table border=\"1\" class=\"dataframe\">\n  <thead>\n    <tr style=\"text-align: right;\">\n      <th>Date</th>\n      <th>03 May 2021</th>\n      <th>04 May 2021</th>\n      <th>05 May 2021</th>\n      <th>06 May 2021</th>\n      <th>07 May 2021</th>\n      <th>10 May 2021</th>\n      <th>11 May 2021</th>\n      <th>12 May 2021</th>\n      <th>13 May 2021</th>\n      <th>14 May 2021</th>\n      <th>17 May 2021</th>\n      <th>18 May 2021</th>\n      <th>19 May 2021</th>\n      <th>20 May 2021</th>\n      <th>21 May 2021</th>\n      <th>24 May 2021</th>\n      <th>25 May 2021</th>\n      <th>26 May 2021</th>\n      <th>27 May 2021</th>\n      <th>28 May 2021</th>\n    </tr>\n    <tr>\n      <th>Name</th>\n      <th></th>\n      <th></th>\n      <th></th>\n      <th></th>\n      <th></th>\n      <th></th>\n      <th></th>\n      <th></th>\n      <th></th>\n      <th></th>\n      <th></th>\n      <th></th>\n      <th></th>\n      <th></th>\n      <th></th>\n      <th></th>\n      <th></th>\n      <th></th>\n      <th></th>\n      <th></th>\n    </tr>\n  </thead>\n  <tbody>\n    <tr>\n      <th>apple</th>\n      <td>132.315247</td>\n      <td>127.633202</td>\n      <td>127.882790</td>\n      <td>129.520004</td>\n      <td>130.210007</td>\n      <td>126.849998</td>\n      <td>125.910004</td>\n      <td>122.769997</td>\n      <td>124.970001</td>\n      <td>127.449997</td>\n      <td>126.269997</td>\n      <td>124.849998</td>\n      <td>124.690002</td>\n      <td>127.309998</td>\n      <td>125.430000</td>\n      <td>127.099998</td>\n      <td>126.900002</td>\n      <td>126.849998</td>\n      <td>125.279999</td>\n      <td>124.610001</td>\n    </tr>\n    <tr>\n      <th>facebook</th>\n      <td>322.579987</td>\n      <td>318.359985</td>\n      <td>315.019989</td>\n      <td>320.019989</td>\n      <td>319.079987</td>\n      <td>305.970001</td>\n      <td>306.529999</td>\n      <td>302.549988</td>\n      <td>305.260010</td>\n      <td>315.940002</td>\n      <td>315.459991</td>\n      <td>309.959991</td>\n      <td>313.589996</td>\n      <td>318.609985</td>\n      <td>316.230011</td>\n      <td>324.630005</td>\n      <td>327.790009</td>\n      <td>327.660004</td>\n      <td>332.750000</td>\n      <td>328.730011</td>\n    </tr>\n    <tr>\n      <th>google</th>\n      <td>2343.080078</td>\n      <td>2306.830078</td>\n      <td>2314.770020</td>\n      <td>2337.350098</td>\n      <td>2351.929932</td>\n      <td>2291.750000</td>\n      <td>2270.060059</td>\n      <td>2200.250000</td>\n      <td>2229.040039</td>\n      <td>2278.379883</td>\n      <td>2288.919922</td>\n      <td>2262.469971</td>\n      <td>2271.500000</td>\n      <td>2306.949951</td>\n      <td>2294.129883</td>\n      <td>2361.040039</td>\n      <td>2362.870117</td>\n      <td>2380.310059</td>\n      <td>2362.679932</td>\n      <td>2356.850098</td>\n    </tr>\n    <tr>\n      <th>microsoft</th>\n      <td>251.279770</td>\n      <td>247.219147</td>\n      <td>245.902191</td>\n      <td>249.154678</td>\n      <td>251.878387</td>\n      <td>246.610550</td>\n      <td>245.662735</td>\n      <td>238.449402</td>\n      <td>242.470108</td>\n      <td>247.578308</td>\n      <td>244.615158</td>\n      <td>242.520004</td>\n      <td>243.119995</td>\n      <td>246.479996</td>\n      <td>245.169998</td>\n      <td>250.779999</td>\n      <td>251.720001</td>\n      <td>251.490005</td>\n      <td>249.309998</td>\n      <td>249.679993</td>\n    </tr>\n    <tr>\n      <th>netflix</th>\n      <td>509.109985</td>\n      <td>503.179993</td>\n      <td>496.079987</td>\n      <td>499.549988</td>\n      <td>503.839996</td>\n      <td>486.690002</td>\n      <td>495.079987</td>\n      <td>484.980011</td>\n      <td>486.660004</td>\n      <td>493.369995</td>\n      <td>488.940002</td>\n      <td>486.279999</td>\n      <td>487.700012</td>\n      <td>501.670013</td>\n      <td>497.890015</td>\n      <td>502.899994</td>\n      <td>501.339996</td>\n      <td>502.359985</td>\n      <td>503.859985</td>\n      <td>502.809998</td>\n    </tr>\n    <tr>\n      <th>amazon</th>\n      <td>3386.489990</td>\n      <td>3311.870117</td>\n      <td>3270.540039</td>\n      <td>3306.370117</td>\n      <td>3291.610107</td>\n      <td>3190.489990</td>\n      <td>3223.909912</td>\n      <td>3151.939941</td>\n      <td>3161.469971</td>\n      <td>3222.899902</td>\n      <td>3270.389893</td>\n      <td>3232.280029</td>\n      <td>3231.800049</td>\n      <td>3247.679932</td>\n      <td>3203.080078</td>\n      <td>3244.989990</td>\n      <td>3259.050049</td>\n      <td>3265.159912</td>\n      <td>3230.110107</td>\n      <td>3223.070068</td>\n    </tr>\n  </tbody>\n</table>\n</div>"
     },
     "metadata": {},
     "execution_count": 14
    }
   ],
   "source": [
    "days = 20\n",
    "tickers = {\n",
    "    'apple': 'AAPL',\n",
    "    'facebook': 'FB',\n",
    "    'google': 'GOOGL',\n",
    "    'microsoft': 'MSFT',\n",
    "    'netflix': 'NFLX',\n",
    "    'amazon': 'AMZN'\n",
    "}\n",
    "\n",
    "get_data(days, tickers)"
   ]
  },
  {
   "cell_type": "code",
   "execution_count": 15,
   "metadata": {},
   "outputs": [
    {
     "output_type": "stream",
     "name": "stdout",
     "text": [
      "Requirement already satisfied: altair in ./.venv/lib/python3.8/site-packages (4.1.0)\n",
      "Requirement already satisfied: entrypoints in ./.venv/lib/python3.8/site-packages (from altair) (0.3)\n",
      "Requirement already satisfied: jsonschema in ./.venv/lib/python3.8/site-packages (from altair) (3.2.0)\n",
      "Requirement already satisfied: numpy in ./.venv/lib/python3.8/site-packages (from altair) (1.20.3)\n",
      "Requirement already satisfied: toolz in ./.venv/lib/python3.8/site-packages (from altair) (0.11.1)\n",
      "Requirement already satisfied: jinja2 in ./.venv/lib/python3.8/site-packages (from altair) (3.0.1)\n",
      "Requirement already satisfied: pandas>=0.18 in ./.venv/lib/python3.8/site-packages (from altair) (1.2.4)\n",
      "Requirement already satisfied: six>=1.11.0 in ./.venv/lib/python3.8/site-packages (from jsonschema->altair) (1.16.0)\n",
      "Requirement already satisfied: attrs>=17.4.0 in ./.venv/lib/python3.8/site-packages (from jsonschema->altair) (21.2.0)\n",
      "Requirement already satisfied: pyrsistent>=0.14.0 in ./.venv/lib/python3.8/site-packages (from jsonschema->altair) (0.17.3)\n",
      "Requirement already satisfied: setuptools in ./.venv/lib/python3.8/site-packages (from jsonschema->altair) (46.4.0)\n",
      "Requirement already satisfied: MarkupSafe>=2.0 in ./.venv/lib/python3.8/site-packages (from jinja2->altair) (2.0.1)\n",
      "Requirement already satisfied: pytz>=2017.3 in ./.venv/lib/python3.8/site-packages (from pandas>=0.18->altair) (2021.1)\n",
      "Requirement already satisfied: python-dateutil>=2.7.3 in ./.venv/lib/python3.8/site-packages (from pandas>=0.18->altair) (2.8.1)\n",
      "\u001b[33mWARNING: You are using pip version 20.1.1; however, version 21.1.2 is available.\n",
      "You should consider upgrading via the '/Users/ktgh/Desktop/Streamlit/.venv/bin/python -m pip install --upgrade pip' command.\u001b[0m\n"
     ]
    }
   ],
   "source": [
    "!pip3 install altair"
   ]
  },
  {
   "cell_type": "code",
   "execution_count": 16,
   "metadata": {},
   "outputs": [],
   "source": [
    "import altair as alt"
   ]
  },
  {
   "cell_type": "code",
   "execution_count": 17,
   "metadata": {},
   "outputs": [
    {
     "output_type": "execute_result",
     "data": {
      "text/plain": [
       "Date       03 May 2021  04 May 2021  05 May 2021  06 May 2021  07 May 2021  \\\n",
       "Name                                                                         \n",
       "apple       132.315247   127.633202   127.882790   129.520004   130.210007   \n",
       "facebook    322.579987   318.359985   315.019989   320.019989   319.079987   \n",
       "google     2343.080078  2306.830078  2314.770020  2337.350098  2351.929932   \n",
       "microsoft   251.279770   247.219147   245.902191   249.154678   251.878387   \n",
       "netflix     509.109985   503.179993   496.079987   499.549988   503.839996   \n",
       "amazon     3386.489990  3311.870117  3270.540039  3306.370117  3291.610107   \n",
       "\n",
       "Date       10 May 2021  11 May 2021  12 May 2021  13 May 2021  14 May 2021  \\\n",
       "Name                                                                         \n",
       "apple       126.849998   125.910004   122.769997   124.970001   127.449997   \n",
       "facebook    305.970001   306.529999   302.549988   305.260010   315.940002   \n",
       "google     2291.750000  2270.060059  2200.250000  2229.040039  2278.379883   \n",
       "microsoft   246.610550   245.662735   238.449402   242.470108   247.578308   \n",
       "netflix     486.690002   495.079987   484.980011   486.660004   493.369995   \n",
       "amazon     3190.489990  3223.909912  3151.939941  3161.469971  3222.899902   \n",
       "\n",
       "Date       17 May 2021  18 May 2021  19 May 2021  20 May 2021  21 May 2021  \\\n",
       "Name                                                                         \n",
       "apple       126.269997   124.849998   124.690002   127.309998   125.430000   \n",
       "facebook    315.459991   309.959991   313.589996   318.609985   316.230011   \n",
       "google     2288.919922  2262.469971  2271.500000  2306.949951  2294.129883   \n",
       "microsoft   244.615158   242.520004   243.119995   246.479996   245.169998   \n",
       "netflix     488.940002   486.279999   487.700012   501.670013   497.890015   \n",
       "amazon     3270.389893  3232.280029  3231.800049  3247.679932  3203.080078   \n",
       "\n",
       "Date       24 May 2021  25 May 2021  26 May 2021  27 May 2021  28 May 2021  \n",
       "Name                                                                        \n",
       "apple       127.099998   126.900002   126.849998   125.279999   124.610001  \n",
       "facebook    324.630005   327.790009   327.660004   332.750000   328.730011  \n",
       "google     2361.040039  2362.870117  2380.310059  2362.679932  2356.850098  \n",
       "microsoft   250.779999   251.720001   251.490005   249.309998   249.679993  \n",
       "netflix     502.899994   501.339996   502.359985   503.859985   502.809998  \n",
       "amazon     3244.989990  3259.050049  3265.159912  3230.110107  3223.070068  "
      ],
      "text/html": "<div>\n<style scoped>\n    .dataframe tbody tr th:only-of-type {\n        vertical-align: middle;\n    }\n\n    .dataframe tbody tr th {\n        vertical-align: top;\n    }\n\n    .dataframe thead th {\n        text-align: right;\n    }\n</style>\n<table border=\"1\" class=\"dataframe\">\n  <thead>\n    <tr style=\"text-align: right;\">\n      <th>Date</th>\n      <th>03 May 2021</th>\n      <th>04 May 2021</th>\n      <th>05 May 2021</th>\n      <th>06 May 2021</th>\n      <th>07 May 2021</th>\n      <th>10 May 2021</th>\n      <th>11 May 2021</th>\n      <th>12 May 2021</th>\n      <th>13 May 2021</th>\n      <th>14 May 2021</th>\n      <th>17 May 2021</th>\n      <th>18 May 2021</th>\n      <th>19 May 2021</th>\n      <th>20 May 2021</th>\n      <th>21 May 2021</th>\n      <th>24 May 2021</th>\n      <th>25 May 2021</th>\n      <th>26 May 2021</th>\n      <th>27 May 2021</th>\n      <th>28 May 2021</th>\n    </tr>\n    <tr>\n      <th>Name</th>\n      <th></th>\n      <th></th>\n      <th></th>\n      <th></th>\n      <th></th>\n      <th></th>\n      <th></th>\n      <th></th>\n      <th></th>\n      <th></th>\n      <th></th>\n      <th></th>\n      <th></th>\n      <th></th>\n      <th></th>\n      <th></th>\n      <th></th>\n      <th></th>\n      <th></th>\n      <th></th>\n    </tr>\n  </thead>\n  <tbody>\n    <tr>\n      <th>apple</th>\n      <td>132.315247</td>\n      <td>127.633202</td>\n      <td>127.882790</td>\n      <td>129.520004</td>\n      <td>130.210007</td>\n      <td>126.849998</td>\n      <td>125.910004</td>\n      <td>122.769997</td>\n      <td>124.970001</td>\n      <td>127.449997</td>\n      <td>126.269997</td>\n      <td>124.849998</td>\n      <td>124.690002</td>\n      <td>127.309998</td>\n      <td>125.430000</td>\n      <td>127.099998</td>\n      <td>126.900002</td>\n      <td>126.849998</td>\n      <td>125.279999</td>\n      <td>124.610001</td>\n    </tr>\n    <tr>\n      <th>facebook</th>\n      <td>322.579987</td>\n      <td>318.359985</td>\n      <td>315.019989</td>\n      <td>320.019989</td>\n      <td>319.079987</td>\n      <td>305.970001</td>\n      <td>306.529999</td>\n      <td>302.549988</td>\n      <td>305.260010</td>\n      <td>315.940002</td>\n      <td>315.459991</td>\n      <td>309.959991</td>\n      <td>313.589996</td>\n      <td>318.609985</td>\n      <td>316.230011</td>\n      <td>324.630005</td>\n      <td>327.790009</td>\n      <td>327.660004</td>\n      <td>332.750000</td>\n      <td>328.730011</td>\n    </tr>\n    <tr>\n      <th>google</th>\n      <td>2343.080078</td>\n      <td>2306.830078</td>\n      <td>2314.770020</td>\n      <td>2337.350098</td>\n      <td>2351.929932</td>\n      <td>2291.750000</td>\n      <td>2270.060059</td>\n      <td>2200.250000</td>\n      <td>2229.040039</td>\n      <td>2278.379883</td>\n      <td>2288.919922</td>\n      <td>2262.469971</td>\n      <td>2271.500000</td>\n      <td>2306.949951</td>\n      <td>2294.129883</td>\n      <td>2361.040039</td>\n      <td>2362.870117</td>\n      <td>2380.310059</td>\n      <td>2362.679932</td>\n      <td>2356.850098</td>\n    </tr>\n    <tr>\n      <th>microsoft</th>\n      <td>251.279770</td>\n      <td>247.219147</td>\n      <td>245.902191</td>\n      <td>249.154678</td>\n      <td>251.878387</td>\n      <td>246.610550</td>\n      <td>245.662735</td>\n      <td>238.449402</td>\n      <td>242.470108</td>\n      <td>247.578308</td>\n      <td>244.615158</td>\n      <td>242.520004</td>\n      <td>243.119995</td>\n      <td>246.479996</td>\n      <td>245.169998</td>\n      <td>250.779999</td>\n      <td>251.720001</td>\n      <td>251.490005</td>\n      <td>249.309998</td>\n      <td>249.679993</td>\n    </tr>\n    <tr>\n      <th>netflix</th>\n      <td>509.109985</td>\n      <td>503.179993</td>\n      <td>496.079987</td>\n      <td>499.549988</td>\n      <td>503.839996</td>\n      <td>486.690002</td>\n      <td>495.079987</td>\n      <td>484.980011</td>\n      <td>486.660004</td>\n      <td>493.369995</td>\n      <td>488.940002</td>\n      <td>486.279999</td>\n      <td>487.700012</td>\n      <td>501.670013</td>\n      <td>497.890015</td>\n      <td>502.899994</td>\n      <td>501.339996</td>\n      <td>502.359985</td>\n      <td>503.859985</td>\n      <td>502.809998</td>\n    </tr>\n    <tr>\n      <th>amazon</th>\n      <td>3386.489990</td>\n      <td>3311.870117</td>\n      <td>3270.540039</td>\n      <td>3306.370117</td>\n      <td>3291.610107</td>\n      <td>3190.489990</td>\n      <td>3223.909912</td>\n      <td>3151.939941</td>\n      <td>3161.469971</td>\n      <td>3222.899902</td>\n      <td>3270.389893</td>\n      <td>3232.280029</td>\n      <td>3231.800049</td>\n      <td>3247.679932</td>\n      <td>3203.080078</td>\n      <td>3244.989990</td>\n      <td>3259.050049</td>\n      <td>3265.159912</td>\n      <td>3230.110107</td>\n      <td>3223.070068</td>\n    </tr>\n  </tbody>\n</table>\n</div>"
     },
     "metadata": {},
     "execution_count": 17
    }
   ],
   "source": [
    "df"
   ]
  },
  {
   "cell_type": "code",
   "execution_count": 34,
   "metadata": {},
   "outputs": [
    {
     "output_type": "execute_result",
     "data": {
      "text/plain": [
       "Date      03 May 2021  04 May 2021  05 May 2021  06 May 2021  07 May 2021  \\\n",
       "Name                                                                        \n",
       "apple      132.315247   127.633202   127.882790   129.520004   130.210007   \n",
       "facebook   322.579987   318.359985   315.019989   320.019989   319.079987   \n",
       "\n",
       "Date      10 May 2021  11 May 2021  12 May 2021  13 May 2021  14 May 2021  \\\n",
       "Name                                                                        \n",
       "apple      126.849998   125.910004   122.769997   124.970001   127.449997   \n",
       "facebook   305.970001   306.529999   302.549988   305.260010   315.940002   \n",
       "\n",
       "Date      17 May 2021  18 May 2021  19 May 2021  20 May 2021  21 May 2021  \\\n",
       "Name                                                                        \n",
       "apple      126.269997   124.849998   124.690002   127.309998   125.430000   \n",
       "facebook   315.459991   309.959991   313.589996   318.609985   316.230011   \n",
       "\n",
       "Date      24 May 2021  25 May 2021  26 May 2021  27 May 2021  28 May 2021  \n",
       "Name                                                                       \n",
       "apple      127.099998   126.900002   126.849998   125.279999   124.610001  \n",
       "facebook   324.630005   327.790009   327.660004   332.750000   328.730011  "
      ],
      "text/html": "<div>\n<style scoped>\n    .dataframe tbody tr th:only-of-type {\n        vertical-align: middle;\n    }\n\n    .dataframe tbody tr th {\n        vertical-align: top;\n    }\n\n    .dataframe thead th {\n        text-align: right;\n    }\n</style>\n<table border=\"1\" class=\"dataframe\">\n  <thead>\n    <tr style=\"text-align: right;\">\n      <th>Date</th>\n      <th>03 May 2021</th>\n      <th>04 May 2021</th>\n      <th>05 May 2021</th>\n      <th>06 May 2021</th>\n      <th>07 May 2021</th>\n      <th>10 May 2021</th>\n      <th>11 May 2021</th>\n      <th>12 May 2021</th>\n      <th>13 May 2021</th>\n      <th>14 May 2021</th>\n      <th>17 May 2021</th>\n      <th>18 May 2021</th>\n      <th>19 May 2021</th>\n      <th>20 May 2021</th>\n      <th>21 May 2021</th>\n      <th>24 May 2021</th>\n      <th>25 May 2021</th>\n      <th>26 May 2021</th>\n      <th>27 May 2021</th>\n      <th>28 May 2021</th>\n    </tr>\n    <tr>\n      <th>Name</th>\n      <th></th>\n      <th></th>\n      <th></th>\n      <th></th>\n      <th></th>\n      <th></th>\n      <th></th>\n      <th></th>\n      <th></th>\n      <th></th>\n      <th></th>\n      <th></th>\n      <th></th>\n      <th></th>\n      <th></th>\n      <th></th>\n      <th></th>\n      <th></th>\n      <th></th>\n      <th></th>\n    </tr>\n  </thead>\n  <tbody>\n    <tr>\n      <th>apple</th>\n      <td>132.315247</td>\n      <td>127.633202</td>\n      <td>127.882790</td>\n      <td>129.520004</td>\n      <td>130.210007</td>\n      <td>126.849998</td>\n      <td>125.910004</td>\n      <td>122.769997</td>\n      <td>124.970001</td>\n      <td>127.449997</td>\n      <td>126.269997</td>\n      <td>124.849998</td>\n      <td>124.690002</td>\n      <td>127.309998</td>\n      <td>125.430000</td>\n      <td>127.099998</td>\n      <td>126.900002</td>\n      <td>126.849998</td>\n      <td>125.279999</td>\n      <td>124.610001</td>\n    </tr>\n    <tr>\n      <th>facebook</th>\n      <td>322.579987</td>\n      <td>318.359985</td>\n      <td>315.019989</td>\n      <td>320.019989</td>\n      <td>319.079987</td>\n      <td>305.970001</td>\n      <td>306.529999</td>\n      <td>302.549988</td>\n      <td>305.260010</td>\n      <td>315.940002</td>\n      <td>315.459991</td>\n      <td>309.959991</td>\n      <td>313.589996</td>\n      <td>318.609985</td>\n      <td>316.230011</td>\n      <td>324.630005</td>\n      <td>327.790009</td>\n      <td>327.660004</td>\n      <td>332.750000</td>\n      <td>328.730011</td>\n    </tr>\n  </tbody>\n</table>\n</div>"
     },
     "metadata": {},
     "execution_count": 34
    }
   ],
   "source": [
    "companies = ['apple', 'facebook']\n",
    "data = df.loc[companies]\n",
    "data            "
   ]
  },
  {
   "cell_type": "code",
   "execution_count": 35,
   "metadata": {},
   "outputs": [
    {
     "output_type": "execute_result",
     "data": {
      "text/plain": [
       "Date      03 May 2021  04 May 2021  05 May 2021  06 May 2021  07 May 2021  \\\n",
       "Name                                                                        \n",
       "apple      132.315247   127.633202   127.882790   129.520004   130.210007   \n",
       "facebook   322.579987   318.359985   315.019989   320.019989   319.079987   \n",
       "\n",
       "Date      10 May 2021  11 May 2021  12 May 2021  13 May 2021  14 May 2021  \\\n",
       "Name                                                                        \n",
       "apple      126.849998   125.910004   122.769997   124.970001   127.449997   \n",
       "facebook   305.970001   306.529999   302.549988   305.260010   315.940002   \n",
       "\n",
       "Date      17 May 2021  18 May 2021  19 May 2021  20 May 2021  21 May 2021  \\\n",
       "Name                                                                        \n",
       "apple      126.269997   124.849998   124.690002   127.309998   125.430000   \n",
       "facebook   315.459991   309.959991   313.589996   318.609985   316.230011   \n",
       "\n",
       "Date      24 May 2021  25 May 2021  26 May 2021  27 May 2021  28 May 2021  \n",
       "Name                                                                       \n",
       "apple      127.099998   126.900002   126.849998   125.279999   124.610001  \n",
       "facebook   324.630005   327.790009   327.660004   332.750000   328.730011  "
      ],
      "text/html": "<div>\n<style scoped>\n    .dataframe tbody tr th:only-of-type {\n        vertical-align: middle;\n    }\n\n    .dataframe tbody tr th {\n        vertical-align: top;\n    }\n\n    .dataframe thead th {\n        text-align: right;\n    }\n</style>\n<table border=\"1\" class=\"dataframe\">\n  <thead>\n    <tr style=\"text-align: right;\">\n      <th>Date</th>\n      <th>03 May 2021</th>\n      <th>04 May 2021</th>\n      <th>05 May 2021</th>\n      <th>06 May 2021</th>\n      <th>07 May 2021</th>\n      <th>10 May 2021</th>\n      <th>11 May 2021</th>\n      <th>12 May 2021</th>\n      <th>13 May 2021</th>\n      <th>14 May 2021</th>\n      <th>17 May 2021</th>\n      <th>18 May 2021</th>\n      <th>19 May 2021</th>\n      <th>20 May 2021</th>\n      <th>21 May 2021</th>\n      <th>24 May 2021</th>\n      <th>25 May 2021</th>\n      <th>26 May 2021</th>\n      <th>27 May 2021</th>\n      <th>28 May 2021</th>\n    </tr>\n    <tr>\n      <th>Name</th>\n      <th></th>\n      <th></th>\n      <th></th>\n      <th></th>\n      <th></th>\n      <th></th>\n      <th></th>\n      <th></th>\n      <th></th>\n      <th></th>\n      <th></th>\n      <th></th>\n      <th></th>\n      <th></th>\n      <th></th>\n      <th></th>\n      <th></th>\n      <th></th>\n      <th></th>\n      <th></th>\n    </tr>\n  </thead>\n  <tbody>\n    <tr>\n      <th>apple</th>\n      <td>132.315247</td>\n      <td>127.633202</td>\n      <td>127.882790</td>\n      <td>129.520004</td>\n      <td>130.210007</td>\n      <td>126.849998</td>\n      <td>125.910004</td>\n      <td>122.769997</td>\n      <td>124.970001</td>\n      <td>127.449997</td>\n      <td>126.269997</td>\n      <td>124.849998</td>\n      <td>124.690002</td>\n      <td>127.309998</td>\n      <td>125.430000</td>\n      <td>127.099998</td>\n      <td>126.900002</td>\n      <td>126.849998</td>\n      <td>125.279999</td>\n      <td>124.610001</td>\n    </tr>\n    <tr>\n      <th>facebook</th>\n      <td>322.579987</td>\n      <td>318.359985</td>\n      <td>315.019989</td>\n      <td>320.019989</td>\n      <td>319.079987</td>\n      <td>305.970001</td>\n      <td>306.529999</td>\n      <td>302.549988</td>\n      <td>305.260010</td>\n      <td>315.940002</td>\n      <td>315.459991</td>\n      <td>309.959991</td>\n      <td>313.589996</td>\n      <td>318.609985</td>\n      <td>316.230011</td>\n      <td>324.630005</td>\n      <td>327.790009</td>\n      <td>327.660004</td>\n      <td>332.750000</td>\n      <td>328.730011</td>\n    </tr>\n  </tbody>\n</table>\n</div>"
     },
     "metadata": {},
     "execution_count": 35
    }
   ],
   "source": [
    "data.sort_index()"
   ]
  },
  {
   "cell_type": "code",
   "execution_count": 36,
   "metadata": {},
   "outputs": [
    {
     "output_type": "execute_result",
     "data": {
      "text/plain": [
       "Name         Date       apple    facebook\n",
       "0     03 May 2021  132.315247  322.579987\n",
       "1     04 May 2021  127.633202  318.359985\n",
       "2     05 May 2021  127.882790  315.019989\n",
       "3     06 May 2021  129.520004  320.019989\n",
       "4     07 May 2021  130.210007  319.079987"
      ],
      "text/html": "<div>\n<style scoped>\n    .dataframe tbody tr th:only-of-type {\n        vertical-align: middle;\n    }\n\n    .dataframe tbody tr th {\n        vertical-align: top;\n    }\n\n    .dataframe thead th {\n        text-align: right;\n    }\n</style>\n<table border=\"1\" class=\"dataframe\">\n  <thead>\n    <tr style=\"text-align: right;\">\n      <th>Name</th>\n      <th>Date</th>\n      <th>apple</th>\n      <th>facebook</th>\n    </tr>\n  </thead>\n  <tbody>\n    <tr>\n      <th>0</th>\n      <td>03 May 2021</td>\n      <td>132.315247</td>\n      <td>322.579987</td>\n    </tr>\n    <tr>\n      <th>1</th>\n      <td>04 May 2021</td>\n      <td>127.633202</td>\n      <td>318.359985</td>\n    </tr>\n    <tr>\n      <th>2</th>\n      <td>05 May 2021</td>\n      <td>127.882790</td>\n      <td>315.019989</td>\n    </tr>\n    <tr>\n      <th>3</th>\n      <td>06 May 2021</td>\n      <td>129.520004</td>\n      <td>320.019989</td>\n    </tr>\n    <tr>\n      <th>4</th>\n      <td>07 May 2021</td>\n      <td>130.210007</td>\n      <td>319.079987</td>\n    </tr>\n  </tbody>\n</table>\n</div>"
     },
     "metadata": {},
     "execution_count": 36
    }
   ],
   "source": [
    "data = data.T.reset_index()\n",
    "data.head()"
   ]
  },
  {
   "source": [
    "data = pd.melt(data, id_vars=['Date']).rename(columns={'value': 'Stock Prices(USD)'})\n",
    "data"
   ],
   "cell_type": "code",
   "metadata": {},
   "execution_count": null,
   "outputs": []
  },
  {
   "cell_type": "code",
   "execution_count": 38,
   "metadata": {},
   "outputs": [
    {
     "output_type": "execute_result",
     "data": {
      "text/plain": [
       "           Date      Name  Stock Prices(USD)\n",
       "0   03 May 2021     apple         132.315247\n",
       "1   04 May 2021     apple         127.633202\n",
       "2   05 May 2021     apple         127.882790\n",
       "3   06 May 2021     apple         129.520004\n",
       "4   07 May 2021     apple         130.210007\n",
       "5   10 May 2021     apple         126.849998\n",
       "6   11 May 2021     apple         125.910004\n",
       "7   12 May 2021     apple         122.769997\n",
       "8   13 May 2021     apple         124.970001\n",
       "9   14 May 2021     apple         127.449997\n",
       "10  17 May 2021     apple         126.269997\n",
       "11  18 May 2021     apple         124.849998\n",
       "12  19 May 2021     apple         124.690002\n",
       "13  20 May 2021     apple         127.309998\n",
       "14  21 May 2021     apple         125.430000\n",
       "15  24 May 2021     apple         127.099998\n",
       "16  25 May 2021     apple         126.900002\n",
       "17  26 May 2021     apple         126.849998\n",
       "18  27 May 2021     apple         125.279999\n",
       "19  28 May 2021     apple         124.610001\n",
       "20  03 May 2021  facebook         322.579987\n",
       "21  04 May 2021  facebook         318.359985\n",
       "22  05 May 2021  facebook         315.019989\n",
       "23  06 May 2021  facebook         320.019989\n",
       "24  07 May 2021  facebook         319.079987\n",
       "25  10 May 2021  facebook         305.970001\n",
       "26  11 May 2021  facebook         306.529999\n",
       "27  12 May 2021  facebook         302.549988\n",
       "28  13 May 2021  facebook         305.260010\n",
       "29  14 May 2021  facebook         315.940002\n",
       "30  17 May 2021  facebook         315.459991\n",
       "31  18 May 2021  facebook         309.959991\n",
       "32  19 May 2021  facebook         313.589996\n",
       "33  20 May 2021  facebook         318.609985\n",
       "34  21 May 2021  facebook         316.230011\n",
       "35  24 May 2021  facebook         324.630005\n",
       "36  25 May 2021  facebook         327.790009\n",
       "37  26 May 2021  facebook         327.660004\n",
       "38  27 May 2021  facebook         332.750000\n",
       "39  28 May 2021  facebook         328.730011"
      ],
      "text/html": "<div>\n<style scoped>\n    .dataframe tbody tr th:only-of-type {\n        vertical-align: middle;\n    }\n\n    .dataframe tbody tr th {\n        vertical-align: top;\n    }\n\n    .dataframe thead th {\n        text-align: right;\n    }\n</style>\n<table border=\"1\" class=\"dataframe\">\n  <thead>\n    <tr style=\"text-align: right;\">\n      <th></th>\n      <th>Date</th>\n      <th>Name</th>\n      <th>Stock Prices(USD)</th>\n    </tr>\n  </thead>\n  <tbody>\n    <tr>\n      <th>0</th>\n      <td>03 May 2021</td>\n      <td>apple</td>\n      <td>132.315247</td>\n    </tr>\n    <tr>\n      <th>1</th>\n      <td>04 May 2021</td>\n      <td>apple</td>\n      <td>127.633202</td>\n    </tr>\n    <tr>\n      <th>2</th>\n      <td>05 May 2021</td>\n      <td>apple</td>\n      <td>127.882790</td>\n    </tr>\n    <tr>\n      <th>3</th>\n      <td>06 May 2021</td>\n      <td>apple</td>\n      <td>129.520004</td>\n    </tr>\n    <tr>\n      <th>4</th>\n      <td>07 May 2021</td>\n      <td>apple</td>\n      <td>130.210007</td>\n    </tr>\n    <tr>\n      <th>5</th>\n      <td>10 May 2021</td>\n      <td>apple</td>\n      <td>126.849998</td>\n    </tr>\n    <tr>\n      <th>6</th>\n      <td>11 May 2021</td>\n      <td>apple</td>\n      <td>125.910004</td>\n    </tr>\n    <tr>\n      <th>7</th>\n      <td>12 May 2021</td>\n      <td>apple</td>\n      <td>122.769997</td>\n    </tr>\n    <tr>\n      <th>8</th>\n      <td>13 May 2021</td>\n      <td>apple</td>\n      <td>124.970001</td>\n    </tr>\n    <tr>\n      <th>9</th>\n      <td>14 May 2021</td>\n      <td>apple</td>\n      <td>127.449997</td>\n    </tr>\n    <tr>\n      <th>10</th>\n      <td>17 May 2021</td>\n      <td>apple</td>\n      <td>126.269997</td>\n    </tr>\n    <tr>\n      <th>11</th>\n      <td>18 May 2021</td>\n      <td>apple</td>\n      <td>124.849998</td>\n    </tr>\n    <tr>\n      <th>12</th>\n      <td>19 May 2021</td>\n      <td>apple</td>\n      <td>124.690002</td>\n    </tr>\n    <tr>\n      <th>13</th>\n      <td>20 May 2021</td>\n      <td>apple</td>\n      <td>127.309998</td>\n    </tr>\n    <tr>\n      <th>14</th>\n      <td>21 May 2021</td>\n      <td>apple</td>\n      <td>125.430000</td>\n    </tr>\n    <tr>\n      <th>15</th>\n      <td>24 May 2021</td>\n      <td>apple</td>\n      <td>127.099998</td>\n    </tr>\n    <tr>\n      <th>16</th>\n      <td>25 May 2021</td>\n      <td>apple</td>\n      <td>126.900002</td>\n    </tr>\n    <tr>\n      <th>17</th>\n      <td>26 May 2021</td>\n      <td>apple</td>\n      <td>126.849998</td>\n    </tr>\n    <tr>\n      <th>18</th>\n      <td>27 May 2021</td>\n      <td>apple</td>\n      <td>125.279999</td>\n    </tr>\n    <tr>\n      <th>19</th>\n      <td>28 May 2021</td>\n      <td>apple</td>\n      <td>124.610001</td>\n    </tr>\n    <tr>\n      <th>20</th>\n      <td>03 May 2021</td>\n      <td>facebook</td>\n      <td>322.579987</td>\n    </tr>\n    <tr>\n      <th>21</th>\n      <td>04 May 2021</td>\n      <td>facebook</td>\n      <td>318.359985</td>\n    </tr>\n    <tr>\n      <th>22</th>\n      <td>05 May 2021</td>\n      <td>facebook</td>\n      <td>315.019989</td>\n    </tr>\n    <tr>\n      <th>23</th>\n      <td>06 May 2021</td>\n      <td>facebook</td>\n      <td>320.019989</td>\n    </tr>\n    <tr>\n      <th>24</th>\n      <td>07 May 2021</td>\n      <td>facebook</td>\n      <td>319.079987</td>\n    </tr>\n    <tr>\n      <th>25</th>\n      <td>10 May 2021</td>\n      <td>facebook</td>\n      <td>305.970001</td>\n    </tr>\n    <tr>\n      <th>26</th>\n      <td>11 May 2021</td>\n      <td>facebook</td>\n      <td>306.529999</td>\n    </tr>\n    <tr>\n      <th>27</th>\n      <td>12 May 2021</td>\n      <td>facebook</td>\n      <td>302.549988</td>\n    </tr>\n    <tr>\n      <th>28</th>\n      <td>13 May 2021</td>\n      <td>facebook</td>\n      <td>305.260010</td>\n    </tr>\n    <tr>\n      <th>29</th>\n      <td>14 May 2021</td>\n      <td>facebook</td>\n      <td>315.940002</td>\n    </tr>\n    <tr>\n      <th>30</th>\n      <td>17 May 2021</td>\n      <td>facebook</td>\n      <td>315.459991</td>\n    </tr>\n    <tr>\n      <th>31</th>\n      <td>18 May 2021</td>\n      <td>facebook</td>\n      <td>309.959991</td>\n    </tr>\n    <tr>\n      <th>32</th>\n      <td>19 May 2021</td>\n      <td>facebook</td>\n      <td>313.589996</td>\n    </tr>\n    <tr>\n      <th>33</th>\n      <td>20 May 2021</td>\n      <td>facebook</td>\n      <td>318.609985</td>\n    </tr>\n    <tr>\n      <th>34</th>\n      <td>21 May 2021</td>\n      <td>facebook</td>\n      <td>316.230011</td>\n    </tr>\n    <tr>\n      <th>35</th>\n      <td>24 May 2021</td>\n      <td>facebook</td>\n      <td>324.630005</td>\n    </tr>\n    <tr>\n      <th>36</th>\n      <td>25 May 2021</td>\n      <td>facebook</td>\n      <td>327.790009</td>\n    </tr>\n    <tr>\n      <th>37</th>\n      <td>26 May 2021</td>\n      <td>facebook</td>\n      <td>327.660004</td>\n    </tr>\n    <tr>\n      <th>38</th>\n      <td>27 May 2021</td>\n      <td>facebook</td>\n      <td>332.750000</td>\n    </tr>\n    <tr>\n      <th>39</th>\n      <td>28 May 2021</td>\n      <td>facebook</td>\n      <td>328.730011</td>\n    </tr>\n  </tbody>\n</table>\n</div>"
     },
     "metadata": {},
     "execution_count": 38
    }
   ],
   "source": [
    "data"
   ]
  },
  {
   "cell_type": "code",
   "execution_count": 44,
   "metadata": {},
   "outputs": [],
   "source": [
    "ymin, ymax = 100, 400\n",
    "\n",
    "chart = (\n",
    "    alt.Chart(data)\n",
    "    .mark_line(opacity=0.8, clip=True)\n",
    "    .encode(\n",
    "        x=\"Date:T\",\n",
    "        y=alt.Y(\"Stock Prices(USD):Q\", stack=None, scale=alt.Scale(domain=[ymin, ymax])),\n",
    "        color='Name:N'\n",
    "    )\n",
    ")"
   ]
  },
  {
   "cell_type": "code",
   "execution_count": 45,
   "metadata": {},
   "outputs": [
    {
     "output_type": "execute_result",
     "data": {
      "text/html": "\n<div id=\"altair-viz-33d9675ee4d947e88fe8010ef99a59e5\"></div>\n<script type=\"text/javascript\">\n  (function(spec, embedOpt){\n    let outputDiv = document.currentScript.previousElementSibling;\n    if (outputDiv.id !== \"altair-viz-33d9675ee4d947e88fe8010ef99a59e5\") {\n      outputDiv = document.getElementById(\"altair-viz-33d9675ee4d947e88fe8010ef99a59e5\");\n    }\n    const paths = {\n      \"vega\": \"https://cdn.jsdelivr.net/npm//vega@5?noext\",\n      \"vega-lib\": \"https://cdn.jsdelivr.net/npm//vega-lib?noext\",\n      \"vega-lite\": \"https://cdn.jsdelivr.net/npm//vega-lite@4.8.1?noext\",\n      \"vega-embed\": \"https://cdn.jsdelivr.net/npm//vega-embed@6?noext\",\n    };\n\n    function loadScript(lib) {\n      return new Promise(function(resolve, reject) {\n        var s = document.createElement('script');\n        s.src = paths[lib];\n        s.async = true;\n        s.onload = () => resolve(paths[lib]);\n        s.onerror = () => reject(`Error loading script: ${paths[lib]}`);\n        document.getElementsByTagName(\"head\")[0].appendChild(s);\n      });\n    }\n\n    function showError(err) {\n      outputDiv.innerHTML = `<div class=\"error\" style=\"color:red;\">${err}</div>`;\n      throw err;\n    }\n\n    function displayChart(vegaEmbed) {\n      vegaEmbed(outputDiv, spec, embedOpt)\n        .catch(err => showError(`Javascript Error: ${err.message}<br>This usually means there's a typo in your chart specification. See the javascript console for the full traceback.`));\n    }\n\n    if(typeof define === \"function\" && define.amd) {\n      requirejs.config({paths});\n      require([\"vega-embed\"], displayChart, err => showError(`Error loading script: ${err.message}`));\n    } else if (typeof vegaEmbed === \"function\") {\n      displayChart(vegaEmbed);\n    } else {\n      loadScript(\"vega\")\n        .then(() => loadScript(\"vega-lite\"))\n        .then(() => loadScript(\"vega-embed\"))\n        .catch(showError)\n        .then(() => displayChart(vegaEmbed));\n    }\n  })({\"config\": {\"view\": {\"continuousWidth\": 400, \"continuousHeight\": 300}}, \"data\": {\"name\": \"data-31aae06786925eba4791a3675d28dfcb\"}, \"mark\": {\"type\": \"line\", \"clip\": true, \"opacity\": 0.8}, \"encoding\": {\"color\": {\"type\": \"nominal\", \"field\": \"Name\"}, \"x\": {\"type\": \"temporal\", \"field\": \"Date\"}, \"y\": {\"type\": \"quantitative\", \"field\": \"Stock Prices(USD)\", \"scale\": {\"domain\": [100, 400]}, \"stack\": null}}, \"$schema\": \"https://vega.github.io/schema/vega-lite/v4.8.1.json\", \"datasets\": {\"data-31aae06786925eba4791a3675d28dfcb\": [{\"Date\": \"03 May 2021\", \"Name\": \"apple\", \"Stock Prices(USD)\": 132.31524658203125}, {\"Date\": \"04 May 2021\", \"Name\": \"apple\", \"Stock Prices(USD)\": 127.6332015991211}, {\"Date\": \"05 May 2021\", \"Name\": \"apple\", \"Stock Prices(USD)\": 127.8827896118164}, {\"Date\": \"06 May 2021\", \"Name\": \"apple\", \"Stock Prices(USD)\": 129.52000427246094}, {\"Date\": \"07 May 2021\", \"Name\": \"apple\", \"Stock Prices(USD)\": 130.2100067138672}, {\"Date\": \"10 May 2021\", \"Name\": \"apple\", \"Stock Prices(USD)\": 126.8499984741211}, {\"Date\": \"11 May 2021\", \"Name\": \"apple\", \"Stock Prices(USD)\": 125.91000366210938}, {\"Date\": \"12 May 2021\", \"Name\": \"apple\", \"Stock Prices(USD)\": 122.7699966430664}, {\"Date\": \"13 May 2021\", \"Name\": \"apple\", \"Stock Prices(USD)\": 124.97000122070312}, {\"Date\": \"14 May 2021\", \"Name\": \"apple\", \"Stock Prices(USD)\": 127.44999694824219}, {\"Date\": \"17 May 2021\", \"Name\": \"apple\", \"Stock Prices(USD)\": 126.2699966430664}, {\"Date\": \"18 May 2021\", \"Name\": \"apple\", \"Stock Prices(USD)\": 124.8499984741211}, {\"Date\": \"19 May 2021\", \"Name\": \"apple\", \"Stock Prices(USD)\": 124.69000244140625}, {\"Date\": \"20 May 2021\", \"Name\": \"apple\", \"Stock Prices(USD)\": 127.30999755859375}, {\"Date\": \"21 May 2021\", \"Name\": \"apple\", \"Stock Prices(USD)\": 125.43000030517578}, {\"Date\": \"24 May 2021\", \"Name\": \"apple\", \"Stock Prices(USD)\": 127.0999984741211}, {\"Date\": \"25 May 2021\", \"Name\": \"apple\", \"Stock Prices(USD)\": 126.9000015258789}, {\"Date\": \"26 May 2021\", \"Name\": \"apple\", \"Stock Prices(USD)\": 126.8499984741211}, {\"Date\": \"27 May 2021\", \"Name\": \"apple\", \"Stock Prices(USD)\": 125.27999877929688}, {\"Date\": \"28 May 2021\", \"Name\": \"apple\", \"Stock Prices(USD)\": 124.61000061035156}, {\"Date\": \"03 May 2021\", \"Name\": \"facebook\", \"Stock Prices(USD)\": 322.5799865722656}, {\"Date\": \"04 May 2021\", \"Name\": \"facebook\", \"Stock Prices(USD)\": 318.3599853515625}, {\"Date\": \"05 May 2021\", \"Name\": \"facebook\", \"Stock Prices(USD)\": 315.0199890136719}, {\"Date\": \"06 May 2021\", \"Name\": \"facebook\", \"Stock Prices(USD)\": 320.0199890136719}, {\"Date\": \"07 May 2021\", \"Name\": \"facebook\", \"Stock Prices(USD)\": 319.0799865722656}, {\"Date\": \"10 May 2021\", \"Name\": \"facebook\", \"Stock Prices(USD)\": 305.9700012207031}, {\"Date\": \"11 May 2021\", \"Name\": \"facebook\", \"Stock Prices(USD)\": 306.5299987792969}, {\"Date\": \"12 May 2021\", \"Name\": \"facebook\", \"Stock Prices(USD)\": 302.54998779296875}, {\"Date\": \"13 May 2021\", \"Name\": \"facebook\", \"Stock Prices(USD)\": 305.260009765625}, {\"Date\": \"14 May 2021\", \"Name\": \"facebook\", \"Stock Prices(USD)\": 315.94000244140625}, {\"Date\": \"17 May 2021\", \"Name\": \"facebook\", \"Stock Prices(USD)\": 315.4599914550781}, {\"Date\": \"18 May 2021\", \"Name\": \"facebook\", \"Stock Prices(USD)\": 309.9599914550781}, {\"Date\": \"19 May 2021\", \"Name\": \"facebook\", \"Stock Prices(USD)\": 313.5899963378906}, {\"Date\": \"20 May 2021\", \"Name\": \"facebook\", \"Stock Prices(USD)\": 318.6099853515625}, {\"Date\": \"21 May 2021\", \"Name\": \"facebook\", \"Stock Prices(USD)\": 316.2300109863281}, {\"Date\": \"24 May 2021\", \"Name\": \"facebook\", \"Stock Prices(USD)\": 324.6300048828125}, {\"Date\": \"25 May 2021\", \"Name\": \"facebook\", \"Stock Prices(USD)\": 327.7900085449219}, {\"Date\": \"26 May 2021\", \"Name\": \"facebook\", \"Stock Prices(USD)\": 327.6600036621094}, {\"Date\": \"27 May 2021\", \"Name\": \"facebook\", \"Stock Prices(USD)\": 332.75}, {\"Date\": \"28 May 2021\", \"Name\": \"facebook\", \"Stock Prices(USD)\": 328.7300109863281}]}}, {\"mode\": \"vega-lite\"});\n</script>",
      "text/plain": [
       "alt.Chart(...)"
      ]
     },
     "metadata": {},
     "execution_count": 45
    }
   ],
   "source": [
    "chart"
   ]
  },
  {
   "cell_type": "code",
   "execution_count": null,
   "metadata": {},
   "outputs": [],
   "source": []
  }
 ]
}