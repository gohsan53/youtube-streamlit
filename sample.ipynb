{
 "metadata": {
  "language_info": {
   "codemirror_mode": {
    "name": "ipython",
    "version": 3
   },
   "file_extension": ".py",
   "mimetype": "text/x-python",
   "name": "python",
   "nbconvert_exporter": "python",
   "pygments_lexer": "ipython3",
   "version": "3.8.3"
  },
  "orig_nbformat": 2,
  "kernelspec": {
   "name": "pythonjvsc74a57bd07662613e74e7023491b08a703faf2cb007555fa6c1ce0339d292c691308ce9d1",
   "display_name": "Python 3.8.3  ('.venv': pipenv)"
  },
  "metadata": {
   "interpreter": {
    "hash": "7662613e74e7023491b08a703faf2cb007555fa6c1ce0339d292c691308ce9d1"
   }
  }
 },
 "nbformat": 4,
 "nbformat_minor": 2,
 "cells": [
  {
   "cell_type": "code",
   "execution_count": 1,
   "metadata": {},
   "outputs": [
    {
     "output_type": "stream",
     "name": "stderr",
     "text": [
      "2021-05-15 12:53:47.301 WARNING streamlit.watcher.file_watcher: \n  For better performance, install the Watchdog module:\n  \n  $ xcode-select --install\n  $ pip install watchdog\n\n        \n"
     ]
    }
   ],
   "source": [
    "import streamlit as st\n",
    "import numpy as np\n",
    "import pandas as pd"
   ]
  },
  {
   "cell_type": "code",
   "execution_count": 2,
   "metadata": {},
   "outputs": [
    {
     "output_type": "execute_result",
     "data": {
      "text/plain": [
       "   1列目  2列目\n",
       "0    1   10\n",
       "1    2   20\n",
       "2    3   30\n",
       "3    4   40"
      ],
      "text/html": "<div>\n<style scoped>\n    .dataframe tbody tr th:only-of-type {\n        vertical-align: middle;\n    }\n\n    .dataframe tbody tr th {\n        vertical-align: top;\n    }\n\n    .dataframe thead th {\n        text-align: right;\n    }\n</style>\n<table border=\"1\" class=\"dataframe\">\n  <thead>\n    <tr style=\"text-align: right;\">\n      <th></th>\n      <th>1列目</th>\n      <th>2列目</th>\n    </tr>\n  </thead>\n  <tbody>\n    <tr>\n      <th>0</th>\n      <td>1</td>\n      <td>10</td>\n    </tr>\n    <tr>\n      <th>1</th>\n      <td>2</td>\n      <td>20</td>\n    </tr>\n    <tr>\n      <th>2</th>\n      <td>3</td>\n      <td>30</td>\n    </tr>\n    <tr>\n      <th>3</th>\n      <td>4</td>\n      <td>40</td>\n    </tr>\n  </tbody>\n</table>\n</div>"
     },
     "metadata": {},
     "execution_count": 2
    }
   ],
   "source": [
    "df = pd.DataFrame({\n",
    "    '1列目': [1, 2, 3, 4],\n",
    "    '2列目': [10, 20, 30, 40]\n",
    "})\n",
    "df"
   ]
  },
  {
   "cell_type": "code",
   "execution_count": 3,
   "metadata": {},
   "outputs": [
    {
     "output_type": "execute_result",
     "data": {
      "text/plain": [
       "           a         b         c\n",
       "0   0.368092  0.869156  0.074454\n",
       "1   0.178681  0.136261  0.779390\n",
       "2   0.670037  0.192830  0.426154\n",
       "3   0.210228  0.521101  0.991484\n",
       "4   0.790593  0.099031  0.284201\n",
       "5   0.063911  0.440322  0.253868\n",
       "6   0.355528  0.836034  0.178390\n",
       "7   0.506706  0.193353  0.456529\n",
       "8   0.955339  0.184685  0.537221\n",
       "9   0.072431  0.224307  0.647720\n",
       "10  0.494794  0.662580  0.434512\n",
       "11  0.459488  0.671924  0.505913\n",
       "12  0.149716  0.384966  0.341390\n",
       "13  0.322587  0.161668  0.953778\n",
       "14  0.106926  0.591408  0.047963\n",
       "15  0.746638  0.076596  0.500944\n",
       "16  0.724592  0.509186  0.434531\n",
       "17  0.743087  0.924848  0.316900\n",
       "18  0.393135  0.518707  0.346087\n",
       "19  0.042127  0.434190  0.587724"
      ],
      "text/html": "<div>\n<style scoped>\n    .dataframe tbody tr th:only-of-type {\n        vertical-align: middle;\n    }\n\n    .dataframe tbody tr th {\n        vertical-align: top;\n    }\n\n    .dataframe thead th {\n        text-align: right;\n    }\n</style>\n<table border=\"1\" class=\"dataframe\">\n  <thead>\n    <tr style=\"text-align: right;\">\n      <th></th>\n      <th>a</th>\n      <th>b</th>\n      <th>c</th>\n    </tr>\n  </thead>\n  <tbody>\n    <tr>\n      <th>0</th>\n      <td>0.368092</td>\n      <td>0.869156</td>\n      <td>0.074454</td>\n    </tr>\n    <tr>\n      <th>1</th>\n      <td>0.178681</td>\n      <td>0.136261</td>\n      <td>0.779390</td>\n    </tr>\n    <tr>\n      <th>2</th>\n      <td>0.670037</td>\n      <td>0.192830</td>\n      <td>0.426154</td>\n    </tr>\n    <tr>\n      <th>3</th>\n      <td>0.210228</td>\n      <td>0.521101</td>\n      <td>0.991484</td>\n    </tr>\n    <tr>\n      <th>4</th>\n      <td>0.790593</td>\n      <td>0.099031</td>\n      <td>0.284201</td>\n    </tr>\n    <tr>\n      <th>5</th>\n      <td>0.063911</td>\n      <td>0.440322</td>\n      <td>0.253868</td>\n    </tr>\n    <tr>\n      <th>6</th>\n      <td>0.355528</td>\n      <td>0.836034</td>\n      <td>0.178390</td>\n    </tr>\n    <tr>\n      <th>7</th>\n      <td>0.506706</td>\n      <td>0.193353</td>\n      <td>0.456529</td>\n    </tr>\n    <tr>\n      <th>8</th>\n      <td>0.955339</td>\n      <td>0.184685</td>\n      <td>0.537221</td>\n    </tr>\n    <tr>\n      <th>9</th>\n      <td>0.072431</td>\n      <td>0.224307</td>\n      <td>0.647720</td>\n    </tr>\n    <tr>\n      <th>10</th>\n      <td>0.494794</td>\n      <td>0.662580</td>\n      <td>0.434512</td>\n    </tr>\n    <tr>\n      <th>11</th>\n      <td>0.459488</td>\n      <td>0.671924</td>\n      <td>0.505913</td>\n    </tr>\n    <tr>\n      <th>12</th>\n      <td>0.149716</td>\n      <td>0.384966</td>\n      <td>0.341390</td>\n    </tr>\n    <tr>\n      <th>13</th>\n      <td>0.322587</td>\n      <td>0.161668</td>\n      <td>0.953778</td>\n    </tr>\n    <tr>\n      <th>14</th>\n      <td>0.106926</td>\n      <td>0.591408</td>\n      <td>0.047963</td>\n    </tr>\n    <tr>\n      <th>15</th>\n      <td>0.746638</td>\n      <td>0.076596</td>\n      <td>0.500944</td>\n    </tr>\n    <tr>\n      <th>16</th>\n      <td>0.724592</td>\n      <td>0.509186</td>\n      <td>0.434531</td>\n    </tr>\n    <tr>\n      <th>17</th>\n      <td>0.743087</td>\n      <td>0.924848</td>\n      <td>0.316900</td>\n    </tr>\n    <tr>\n      <th>18</th>\n      <td>0.393135</td>\n      <td>0.518707</td>\n      <td>0.346087</td>\n    </tr>\n    <tr>\n      <th>19</th>\n      <td>0.042127</td>\n      <td>0.434190</td>\n      <td>0.587724</td>\n    </tr>\n  </tbody>\n</table>\n</div>"
     },
     "metadata": {},
     "execution_count": 3
    }
   ],
   "source": [
    "df = pd.DataFrame(\n",
    "    np.random.rand(20, 3),\n",
    "    columns=['a', 'b', 'c']\n",
    ")\n",
    "df"
   ]
  },
  {
   "cell_type": "code",
   "execution_count": 7,
   "metadata": {},
   "outputs": [
    {
     "output_type": "execute_result",
     "data": {
      "text/plain": [
       "          lat         lon\n",
       "0   35.690741  139.700143\n",
       "1   35.692884  139.713464\n",
       "2   35.699819  139.719616\n",
       "3   35.704301  139.713995\n",
       "4   35.709923  139.714673\n",
       "..        ...         ...\n",
       "95  35.709993  139.717189\n",
       "96  35.690787  139.708388\n",
       "97  35.699473  139.704876\n",
       "98  35.705938  139.703340\n",
       "99  35.694208  139.701372\n",
       "\n",
       "[100 rows x 2 columns]"
      ],
      "text/html": "<div>\n<style scoped>\n    .dataframe tbody tr th:only-of-type {\n        vertical-align: middle;\n    }\n\n    .dataframe tbody tr th {\n        vertical-align: top;\n    }\n\n    .dataframe thead th {\n        text-align: right;\n    }\n</style>\n<table border=\"1\" class=\"dataframe\">\n  <thead>\n    <tr style=\"text-align: right;\">\n      <th></th>\n      <th>lat</th>\n      <th>lon</th>\n    </tr>\n  </thead>\n  <tbody>\n    <tr>\n      <th>0</th>\n      <td>35.690741</td>\n      <td>139.700143</td>\n    </tr>\n    <tr>\n      <th>1</th>\n      <td>35.692884</td>\n      <td>139.713464</td>\n    </tr>\n    <tr>\n      <th>2</th>\n      <td>35.699819</td>\n      <td>139.719616</td>\n    </tr>\n    <tr>\n      <th>3</th>\n      <td>35.704301</td>\n      <td>139.713995</td>\n    </tr>\n    <tr>\n      <th>4</th>\n      <td>35.709923</td>\n      <td>139.714673</td>\n    </tr>\n    <tr>\n      <th>...</th>\n      <td>...</td>\n      <td>...</td>\n    </tr>\n    <tr>\n      <th>95</th>\n      <td>35.709993</td>\n      <td>139.717189</td>\n    </tr>\n    <tr>\n      <th>96</th>\n      <td>35.690787</td>\n      <td>139.708388</td>\n    </tr>\n    <tr>\n      <th>97</th>\n      <td>35.699473</td>\n      <td>139.704876</td>\n    </tr>\n    <tr>\n      <th>98</th>\n      <td>35.705938</td>\n      <td>139.703340</td>\n    </tr>\n    <tr>\n      <th>99</th>\n      <td>35.694208</td>\n      <td>139.701372</td>\n    </tr>\n  </tbody>\n</table>\n<p>100 rows × 2 columns</p>\n</div>"
     },
     "metadata": {},
     "execution_count": 7
    }
   ],
   "source": [
    "df = pd.DataFrame(\n",
    "    np.random.rand(100, 2)/[50, 50] + [35.69, 139.70],\n",
    "    columns=['lat', 'lon']\n",
    ")\n",
    "df"
   ]
  },
  {
   "cell_type": "code",
   "execution_count": 8,
   "metadata": {},
   "outputs": [
    {
     "output_type": "execute_result",
     "data": {
      "text/plain": [
       "[1, 2, 3, 4, 5, 6, 7, 8, 9]"
      ]
     },
     "metadata": {},
     "execution_count": 8
    }
   ],
   "source": [
    "list(range(1, 10))"
   ]
  },
  {
   "cell_type": "code",
   "execution_count": null,
   "metadata": {},
   "outputs": [],
   "source": []
  }
 ]
}